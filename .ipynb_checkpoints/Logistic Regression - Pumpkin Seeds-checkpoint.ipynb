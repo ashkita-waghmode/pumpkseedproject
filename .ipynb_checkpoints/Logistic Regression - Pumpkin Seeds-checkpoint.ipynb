{
 "cells": [
  {
   "cell_type": "code",
   "execution_count": 1,
   "id": "68faac9f",
   "metadata": {},
   "outputs": [],
   "source": [
    "import pandas as pd\n",
    "import numpy as np\n",
    "import matplotlib.pyplot as plt\n",
    "import seaborn as sns\n",
    "from sklearn.model_selection import train_test_split\n",
    "from sklearn.linear_model import LogisticRegression\n",
    "from sklearn.metrics import classification_report,confusion_matrix,plot_confusion_matrix\n",
    "from sklearn.metrics import precision_score,recall_score,f1_score,accuracy_score\n",
    "from sklearn.metrics import roc_auc_score,roc_curve,precision_recall_curve\n",
    "import warnings\n",
    "warnings.filterwarnings('ignore')"
   ]
  },
  {
   "cell_type": "markdown",
   "id": "789100c9",
   "metadata": {},
   "source": [
    "## 1. Problem Statement"
   ]
  },
  {
   "cell_type": "code",
   "execution_count": 2,
   "id": "ad5c57a4",
   "metadata": {},
   "outputs": [],
   "source": [
    "#To find out class of pumpkin seeds\n",
    "#Area\n",
    "#Perimeter\n",
    "#Major_Axis_Length\n",
    "#Minor_Axis_Length\n",
    "#Convex_Area \n",
    "#Equiv_Diameter\n",
    "#Eccentricity\n",
    "#Solidity \n",
    "#Extent\n",
    "#Roundness\n",
    "#Aspect_Ration\n",
    "#Compactness\n",
    "        "
   ]
  },
  {
   "cell_type": "markdown",
   "id": "d336c875",
   "metadata": {},
   "source": [
    "## 2. DataGathring"
   ]
  },
  {
   "cell_type": "code",
   "execution_count": 3,
   "id": "f76fa2f4",
   "metadata": {},
   "outputs": [
    {
     "data": {
      "text/html": [
       "<div>\n",
       "<style scoped>\n",
       "    .dataframe tbody tr th:only-of-type {\n",
       "        vertical-align: middle;\n",
       "    }\n",
       "\n",
       "    .dataframe tbody tr th {\n",
       "        vertical-align: top;\n",
       "    }\n",
       "\n",
       "    .dataframe thead th {\n",
       "        text-align: right;\n",
       "    }\n",
       "</style>\n",
       "<table border=\"1\" class=\"dataframe\">\n",
       "  <thead>\n",
       "    <tr style=\"text-align: right;\">\n",
       "      <th></th>\n",
       "      <th>Area</th>\n",
       "      <th>Perimeter</th>\n",
       "      <th>Major_Axis_Length</th>\n",
       "      <th>Minor_Axis_Length</th>\n",
       "      <th>Convex_Area</th>\n",
       "      <th>Equiv_Diameter</th>\n",
       "      <th>Eccentricity</th>\n",
       "      <th>Solidity</th>\n",
       "      <th>Extent</th>\n",
       "      <th>Roundness</th>\n",
       "      <th>Aspect_Ration</th>\n",
       "      <th>Compactness</th>\n",
       "      <th>Class</th>\n",
       "    </tr>\n",
       "  </thead>\n",
       "  <tbody>\n",
       "    <tr>\n",
       "      <th>0</th>\n",
       "      <td>56276</td>\n",
       "      <td>888.242</td>\n",
       "      <td>326.1485</td>\n",
       "      <td>220.2388</td>\n",
       "      <td>56831</td>\n",
       "      <td>267.6805</td>\n",
       "      <td>0.7376</td>\n",
       "      <td>0.9902</td>\n",
       "      <td>0.7453</td>\n",
       "      <td>0.8963</td>\n",
       "      <td>1.4809</td>\n",
       "      <td>0.8207</td>\n",
       "      <td>Çerçevelik</td>\n",
       "    </tr>\n",
       "    <tr>\n",
       "      <th>1</th>\n",
       "      <td>76631</td>\n",
       "      <td>1068.146</td>\n",
       "      <td>417.1932</td>\n",
       "      <td>234.2289</td>\n",
       "      <td>77280</td>\n",
       "      <td>312.3614</td>\n",
       "      <td>0.8275</td>\n",
       "      <td>0.9916</td>\n",
       "      <td>0.7151</td>\n",
       "      <td>0.8440</td>\n",
       "      <td>1.7811</td>\n",
       "      <td>0.7487</td>\n",
       "      <td>Çerçevelik</td>\n",
       "    </tr>\n",
       "    <tr>\n",
       "      <th>2</th>\n",
       "      <td>71623</td>\n",
       "      <td>1082.987</td>\n",
       "      <td>435.8328</td>\n",
       "      <td>211.0457</td>\n",
       "      <td>72663</td>\n",
       "      <td>301.9822</td>\n",
       "      <td>0.8749</td>\n",
       "      <td>0.9857</td>\n",
       "      <td>0.7400</td>\n",
       "      <td>0.7674</td>\n",
       "      <td>2.0651</td>\n",
       "      <td>0.6929</td>\n",
       "      <td>Çerçevelik</td>\n",
       "    </tr>\n",
       "    <tr>\n",
       "      <th>3</th>\n",
       "      <td>66458</td>\n",
       "      <td>992.051</td>\n",
       "      <td>381.5638</td>\n",
       "      <td>222.5322</td>\n",
       "      <td>67118</td>\n",
       "      <td>290.8899</td>\n",
       "      <td>0.8123</td>\n",
       "      <td>0.9902</td>\n",
       "      <td>0.7396</td>\n",
       "      <td>0.8486</td>\n",
       "      <td>1.7146</td>\n",
       "      <td>0.7624</td>\n",
       "      <td>Çerçevelik</td>\n",
       "    </tr>\n",
       "    <tr>\n",
       "      <th>4</th>\n",
       "      <td>66107</td>\n",
       "      <td>998.146</td>\n",
       "      <td>383.8883</td>\n",
       "      <td>220.4545</td>\n",
       "      <td>67117</td>\n",
       "      <td>290.1207</td>\n",
       "      <td>0.8187</td>\n",
       "      <td>0.9850</td>\n",
       "      <td>0.6752</td>\n",
       "      <td>0.8338</td>\n",
       "      <td>1.7413</td>\n",
       "      <td>0.7557</td>\n",
       "      <td>Çerçevelik</td>\n",
       "    </tr>\n",
       "    <tr>\n",
       "      <th>...</th>\n",
       "      <td>...</td>\n",
       "      <td>...</td>\n",
       "      <td>...</td>\n",
       "      <td>...</td>\n",
       "      <td>...</td>\n",
       "      <td>...</td>\n",
       "      <td>...</td>\n",
       "      <td>...</td>\n",
       "      <td>...</td>\n",
       "      <td>...</td>\n",
       "      <td>...</td>\n",
       "      <td>...</td>\n",
       "      <td>...</td>\n",
       "    </tr>\n",
       "    <tr>\n",
       "      <th>2495</th>\n",
       "      <td>79637</td>\n",
       "      <td>1224.710</td>\n",
       "      <td>533.1513</td>\n",
       "      <td>190.4367</td>\n",
       "      <td>80381</td>\n",
       "      <td>318.4289</td>\n",
       "      <td>0.9340</td>\n",
       "      <td>0.9907</td>\n",
       "      <td>0.4888</td>\n",
       "      <td>0.6672</td>\n",
       "      <td>2.7996</td>\n",
       "      <td>0.5973</td>\n",
       "      <td>Ürgüp Sivrisi</td>\n",
       "    </tr>\n",
       "    <tr>\n",
       "      <th>2496</th>\n",
       "      <td>69647</td>\n",
       "      <td>1084.318</td>\n",
       "      <td>462.9416</td>\n",
       "      <td>191.8210</td>\n",
       "      <td>70216</td>\n",
       "      <td>297.7874</td>\n",
       "      <td>0.9101</td>\n",
       "      <td>0.9919</td>\n",
       "      <td>0.6002</td>\n",
       "      <td>0.7444</td>\n",
       "      <td>2.4134</td>\n",
       "      <td>0.6433</td>\n",
       "      <td>Ürgüp Sivrisi</td>\n",
       "    </tr>\n",
       "    <tr>\n",
       "      <th>2497</th>\n",
       "      <td>87994</td>\n",
       "      <td>1210.314</td>\n",
       "      <td>507.2200</td>\n",
       "      <td>222.1872</td>\n",
       "      <td>88702</td>\n",
       "      <td>334.7199</td>\n",
       "      <td>0.8990</td>\n",
       "      <td>0.9920</td>\n",
       "      <td>0.7643</td>\n",
       "      <td>0.7549</td>\n",
       "      <td>2.2828</td>\n",
       "      <td>0.6599</td>\n",
       "      <td>Ürgüp Sivrisi</td>\n",
       "    </tr>\n",
       "    <tr>\n",
       "      <th>2498</th>\n",
       "      <td>80011</td>\n",
       "      <td>1182.947</td>\n",
       "      <td>501.9065</td>\n",
       "      <td>204.7531</td>\n",
       "      <td>80902</td>\n",
       "      <td>319.1758</td>\n",
       "      <td>0.9130</td>\n",
       "      <td>0.9890</td>\n",
       "      <td>0.7374</td>\n",
       "      <td>0.7185</td>\n",
       "      <td>2.4513</td>\n",
       "      <td>0.6359</td>\n",
       "      <td>Ürgüp Sivrisi</td>\n",
       "    </tr>\n",
       "    <tr>\n",
       "      <th>2499</th>\n",
       "      <td>84934</td>\n",
       "      <td>1159.933</td>\n",
       "      <td>462.8951</td>\n",
       "      <td>234.5597</td>\n",
       "      <td>85781</td>\n",
       "      <td>328.8485</td>\n",
       "      <td>0.8621</td>\n",
       "      <td>0.9901</td>\n",
       "      <td>0.7360</td>\n",
       "      <td>0.7933</td>\n",
       "      <td>1.9735</td>\n",
       "      <td>0.7104</td>\n",
       "      <td>Ürgüp Sivrisi</td>\n",
       "    </tr>\n",
       "  </tbody>\n",
       "</table>\n",
       "<p>2500 rows × 13 columns</p>\n",
       "</div>"
      ],
      "text/plain": [
       "       Area  Perimeter  Major_Axis_Length  Minor_Axis_Length  Convex_Area  \\\n",
       "0     56276    888.242           326.1485           220.2388        56831   \n",
       "1     76631   1068.146           417.1932           234.2289        77280   \n",
       "2     71623   1082.987           435.8328           211.0457        72663   \n",
       "3     66458    992.051           381.5638           222.5322        67118   \n",
       "4     66107    998.146           383.8883           220.4545        67117   \n",
       "...     ...        ...                ...                ...          ...   \n",
       "2495  79637   1224.710           533.1513           190.4367        80381   \n",
       "2496  69647   1084.318           462.9416           191.8210        70216   \n",
       "2497  87994   1210.314           507.2200           222.1872        88702   \n",
       "2498  80011   1182.947           501.9065           204.7531        80902   \n",
       "2499  84934   1159.933           462.8951           234.5597        85781   \n",
       "\n",
       "      Equiv_Diameter  Eccentricity  Solidity  Extent  Roundness  \\\n",
       "0           267.6805        0.7376    0.9902  0.7453     0.8963   \n",
       "1           312.3614        0.8275    0.9916  0.7151     0.8440   \n",
       "2           301.9822        0.8749    0.9857  0.7400     0.7674   \n",
       "3           290.8899        0.8123    0.9902  0.7396     0.8486   \n",
       "4           290.1207        0.8187    0.9850  0.6752     0.8338   \n",
       "...              ...           ...       ...     ...        ...   \n",
       "2495        318.4289        0.9340    0.9907  0.4888     0.6672   \n",
       "2496        297.7874        0.9101    0.9919  0.6002     0.7444   \n",
       "2497        334.7199        0.8990    0.9920  0.7643     0.7549   \n",
       "2498        319.1758        0.9130    0.9890  0.7374     0.7185   \n",
       "2499        328.8485        0.8621    0.9901  0.7360     0.7933   \n",
       "\n",
       "      Aspect_Ration  Compactness          Class  \n",
       "0            1.4809       0.8207     Çerçevelik  \n",
       "1            1.7811       0.7487     Çerçevelik  \n",
       "2            2.0651       0.6929     Çerçevelik  \n",
       "3            1.7146       0.7624     Çerçevelik  \n",
       "4            1.7413       0.7557     Çerçevelik  \n",
       "...             ...          ...            ...  \n",
       "2495         2.7996       0.5973  Ürgüp Sivrisi  \n",
       "2496         2.4134       0.6433  Ürgüp Sivrisi  \n",
       "2497         2.2828       0.6599  Ürgüp Sivrisi  \n",
       "2498         2.4513       0.6359  Ürgüp Sivrisi  \n",
       "2499         1.9735       0.7104  Ürgüp Sivrisi  \n",
       "\n",
       "[2500 rows x 13 columns]"
      ]
     },
     "execution_count": 3,
     "metadata": {},
     "output_type": "execute_result"
    }
   ],
   "source": [
    "df_Pumpkin_Seeds=pd.read_excel('Pumpkin_Seeds_Dataset.xlsx')\n",
    "df_Pumpkin_Seeds"
   ]
  },
  {
   "cell_type": "markdown",
   "id": "4e54d0e9",
   "metadata": {},
   "source": [
    "## 3. EDA"
   ]
  },
  {
   "cell_type": "code",
   "execution_count": 4,
   "id": "a55e2918",
   "metadata": {},
   "outputs": [
    {
     "name": "stdout",
     "output_type": "stream",
     "text": [
      "<class 'pandas.core.frame.DataFrame'>\n",
      "RangeIndex: 2500 entries, 0 to 2499\n",
      "Data columns (total 13 columns):\n",
      " #   Column             Non-Null Count  Dtype  \n",
      "---  ------             --------------  -----  \n",
      " 0   Area               2500 non-null   int64  \n",
      " 1   Perimeter          2500 non-null   float64\n",
      " 2   Major_Axis_Length  2500 non-null   float64\n",
      " 3   Minor_Axis_Length  2500 non-null   float64\n",
      " 4   Convex_Area        2500 non-null   int64  \n",
      " 5   Equiv_Diameter     2500 non-null   float64\n",
      " 6   Eccentricity       2500 non-null   float64\n",
      " 7   Solidity           2500 non-null   float64\n",
      " 8   Extent             2500 non-null   float64\n",
      " 9   Roundness          2500 non-null   float64\n",
      " 10  Aspect_Ration      2500 non-null   float64\n",
      " 11  Compactness        2500 non-null   float64\n",
      " 12  Class              2500 non-null   object \n",
      "dtypes: float64(10), int64(2), object(1)\n",
      "memory usage: 254.0+ KB\n"
     ]
    }
   ],
   "source": [
    "df_Pumpkin_Seeds.info()"
   ]
  },
  {
   "cell_type": "markdown",
   "id": "86e175ac",
   "metadata": {},
   "source": [
    "## 3.1 Area"
   ]
  },
  {
   "cell_type": "code",
   "execution_count": 5,
   "id": "4dcfa3de",
   "metadata": {},
   "outputs": [
    {
     "data": {
      "text/plain": [
       "<AxesSubplot: xlabel='Area'>"
      ]
     },
     "execution_count": 5,
     "metadata": {},
     "output_type": "execute_result"
    },
    {
     "data": {
      "image/png": "[encoded data removed]",
      "text/plain": [
       "<Figure size 640x480 with 1 Axes>"
      ]
     },
     "metadata": {},
     "output_type": "display_data"
    }
   ],
   "source": [
    "import matplotlib\n",
    "%matplotlib inline\n",
    "sns.boxplot(x = df_Pumpkin_Seeds['Area'])"
   ]
  },
  {
   "cell_type": "code",
   "execution_count": 6,
   "id": "87c0358a",
   "metadata": {},
   "outputs": [],
   "source": [
    "df_Pumpkin_Seeds['Area'] = np.where(df_Pumpkin_Seeds['Area']> 117000, df_Pumpkin_Seeds['Area'].median(), df_Pumpkin_Seeds.Area)"
   ]
  },
  {
   "cell_type": "code",
   "execution_count": 7,
   "id": "c332cc0e",
   "metadata": {},
   "outputs": [
    {
     "data": {
      "text/plain": [
       "<AxesSubplot: xlabel='Area'>"
      ]
     },
     "execution_count": 7,
     "metadata": {},
     "output_type": "execute_result"
    },
    {
     "data": {
      "image/png": "[encoded data removed]",
      "text/plain": [
       "<Figure size 640x480 with 1 Axes>"
      ]
     },
     "metadata": {},
     "output_type": "display_data"
    }
   ],
   "source": [
    "sns.boxplot(x=df_Pumpkin_Seeds['Area'])"
   ]
  },
  {
   "cell_type": "markdown",
   "id": "784f6fef",
   "metadata": {},
   "source": [
    "## 3.2 Perimeter"
   ]
  },
  {
   "cell_type": "code",
   "execution_count": 8,
   "id": "a1145cfb",
   "metadata": {},
   "outputs": [
    {
     "data": {
      "text/plain": [
       "<AxesSubplot: xlabel='Perimeter'>"
      ]
     },
     "execution_count": 8,
     "metadata": {},
     "output_type": "execute_result"
    },
    {
     "data": {
      "image/png": "[encoded data removed]",
      "text/plain": [
       "<Figure size 640x480 with 1 Axes>"
      ]
     },
     "metadata": {},
     "output_type": "display_data"
    }
   ],
   "source": [
    "sns.boxplot(x=df_Pumpkin_Seeds['Perimeter'])"
   ]
  },
  {
   "cell_type": "code",
   "execution_count": 9,
   "id": "0159fde6",
   "metadata": {},
   "outputs": [],
   "source": [
    "df_Pumpkin_Seeds['Perimeter'] = np.where(df_Pumpkin_Seeds['Perimeter']>1430, df_Pumpkin_Seeds['Perimeter'].median(), df_Pumpkin_Seeds.Perimeter)"
   ]
  },
  {
   "cell_type": "code",
   "execution_count": 10,
   "id": "183d85e0",
   "metadata": {},
   "outputs": [
    {
     "data": {
      "text/plain": [
       "<AxesSubplot: xlabel='Perimeter'>"
      ]
     },
     "execution_count": 10,
     "metadata": {},
     "output_type": "execute_result"
    },
    {
     "data": {
      "image/png": "[encoded data removed]",
      "text/plain": [
       "<Figure size 640x480 with 1 Axes>"
      ]
     },
     "metadata": {},
     "output_type": "display_data"
    }
   ],
   "source": [
    "sns.boxplot(x=df_Pumpkin_Seeds['Perimeter'])"
   ]
  },
  {
   "cell_type": "markdown",
   "id": "165ef2d3",
   "metadata": {},
   "source": [
    "## 3.3 Major_Axis_Length"
   ]
  },
  {
   "cell_type": "code",
   "execution_count": 11,
   "id": "13e46263",
   "metadata": {},
   "outputs": [
    {
     "data": {
      "text/plain": [
       "<AxesSubplot: xlabel='Major_Axis_Length'>"
      ]
     },
     "execution_count": 11,
     "metadata": {},
     "output_type": "execute_result"
    },
    {
     "data": {
      "image/png": "[encoded data removed]",
      "text/plain": [
       "<Figure size 640x480 with 1 Axes>"
      ]
     },
     "metadata": {},
     "output_type": "display_data"
    }
   ],
   "source": [
    "sns.boxplot(x=df_Pumpkin_Seeds['Major_Axis_Length'])"
   ]
  },
  {
   "cell_type": "code",
   "execution_count": 12,
   "id": "22d3b380",
   "metadata": {},
   "outputs": [],
   "source": [
    "df_Pumpkin_Seeds['Major_Axis_Length'] = np.where(df_Pumpkin_Seeds['Major_Axis_Length']> 610, df_Pumpkin_Seeds['Major_Axis_Length'].median(), df_Pumpkin_Seeds.Major_Axis_Length)"
   ]
  },
  {
   "cell_type": "code",
   "execution_count": 13,
   "id": "6cd9b903",
   "metadata": {},
   "outputs": [
    {
     "data": {
      "text/plain": [
       "<AxesSubplot: xlabel='Major_Axis_Length'>"
      ]
     },
     "execution_count": 13,
     "metadata": {},
     "output_type": "execute_result"
    },
    {
     "data": {
      "image/png": "[encoded data removed]",
      "text/plain": [
       "<Figure size 640x480 with 1 Axes>"
      ]
     },
     "metadata": {},
     "output_type": "display_data"
    }
   ],
   "source": [
    "sns.boxplot(x=df_Pumpkin_Seeds['Major_Axis_Length'])"
   ]
  },
  {
   "cell_type": "markdown",
   "id": "eed97f88",
   "metadata": {},
   "source": [
    "## 3.4 Manor_Axis_Length"
   ]
  },
  {
   "cell_type": "code",
   "execution_count": 14,
   "id": "9c4d660c",
   "metadata": {},
   "outputs": [
    {
     "data": {
      "text/plain": [
       "<AxesSubplot: xlabel='Minor_Axis_Length'>"
      ]
     },
     "execution_count": 14,
     "metadata": {},
     "output_type": "execute_result"
    },
    {
     "data": {
      "image/png": "[encoded data removed]",
      "text/plain": [
       "<Figure size 640x480 with 1 Axes>"
      ]
     },
     "metadata": {},
     "output_type": "display_data"
    }
   ],
   "source": [
    "sns.boxplot(x=df_Pumpkin_Seeds['Minor_Axis_Length'])"
   ]
  },
  {
   "cell_type": "code",
   "execution_count": 15,
   "id": "b9658d54",
   "metadata": {},
   "outputs": [],
   "source": [
    "df_Pumpkin_Seeds['Minor_Axis_Length'] = np.where(~df_Pumpkin_Seeds['Minor_Axis_Length'].between(175,280), df_Pumpkin_Seeds['Minor_Axis_Length'].median(),\n",
    "                                   df_Pumpkin_Seeds['Minor_Axis_Length'])"
   ]
  },
  {
   "cell_type": "code",
   "execution_count": 16,
   "id": "961544dc",
   "metadata": {},
   "outputs": [
    {
     "data": {
      "text/plain": [
       "<AxesSubplot: xlabel='Minor_Axis_Length'>"
      ]
     },
     "execution_count": 16,
     "metadata": {},
     "output_type": "execute_result"
    },
    {
     "data": {
      "image/png": "[encoded data removed]",
      "text/plain": [
       "<Figure size 640x480 with 1 Axes>"
      ]
     },
     "metadata": {},
     "output_type": "display_data"
    }
   ],
   "source": [
    "sns.boxplot(x=df_Pumpkin_Seeds['Minor_Axis_Length'])"
   ]
  },
  {
   "cell_type": "markdown",
   "id": "6928109b",
   "metadata": {},
   "source": [
    "## 3.5 Convex_Area        "
   ]
  },
  {
   "cell_type": "code",
   "execution_count": 17,
   "id": "0cb9eafb",
   "metadata": {},
   "outputs": [
    {
     "data": {
      "text/plain": [
       "<AxesSubplot: xlabel='Convex_Area'>"
      ]
     },
     "execution_count": 17,
     "metadata": {},
     "output_type": "execute_result"
    },
    {
     "data": {
      "image/png": "[encoded data removed]",
      "text/plain": [
       "<Figure size 640x480 with 1 Axes>"
      ]
     },
     "metadata": {},
     "output_type": "display_data"
    }
   ],
   "source": [
    "sns.boxplot(x=df_Pumpkin_Seeds['Convex_Area'])"
   ]
  },
  {
   "cell_type": "code",
   "execution_count": 18,
   "id": "f85703e6",
   "metadata": {},
   "outputs": [],
   "source": [
    "df_Pumpkin_Seeds['Convex_Area'] = np.where(df_Pumpkin_Seeds['Convex_Area']>118000, df_Pumpkin_Seeds['Convex_Area'].median(), df_Pumpkin_Seeds.Convex_Area)"
   ]
  },
  {
   "cell_type": "code",
   "execution_count": 19,
   "id": "2793c599",
   "metadata": {},
   "outputs": [
    {
     "data": {
      "text/plain": [
       "<AxesSubplot: xlabel='Convex_Area'>"
      ]
     },
     "execution_count": 19,
     "metadata": {},
     "output_type": "execute_result"
    },
    {
     "data": {
      "image/png": "[encoded data removed]",
      "text/plain": [
       "<Figure size 640x480 with 1 Axes>"
      ]
     },
     "metadata": {},
     "output_type": "display_data"
    }
   ],
   "source": [
    "sns.boxplot(x=df_Pumpkin_Seeds['Convex_Area'])"
   ]
  },
  {
   "cell_type": "markdown",
   "id": "83fdc433",
   "metadata": {},
   "source": [
    "## 3.6 Equiv_Diameter"
   ]
  },
  {
   "cell_type": "code",
   "execution_count": 20,
   "id": "2e10bf58",
   "metadata": {},
   "outputs": [
    {
     "data": {
      "text/plain": [
       "<AxesSubplot: xlabel='Equiv_Diameter'>"
      ]
     },
     "execution_count": 20,
     "metadata": {},
     "output_type": "execute_result"
    },
    {
     "data": {
      "image/png": "[encoded data removed]",
      "text/plain": [
       "<Figure size 640x480 with 1 Axes>"
      ]
     },
     "metadata": {},
     "output_type": "display_data"
    }
   ],
   "source": [
    "sns.boxplot(x=df_Pumpkin_Seeds['Equiv_Diameter'])"
   ]
  },
  {
   "cell_type": "code",
   "execution_count": 21,
   "id": "d1d16e4d",
   "metadata": {},
   "outputs": [],
   "source": [
    "df_Pumpkin_Seeds['Equiv_Diameter'] = np.where(df_Pumpkin_Seeds['Equiv_Diameter']> 390, df_Pumpkin_Seeds['Equiv_Diameter'].median(), df_Pumpkin_Seeds.Equiv_Diameter)"
   ]
  },
  {
   "cell_type": "code",
   "execution_count": 22,
   "id": "405e6de3",
   "metadata": {},
   "outputs": [
    {
     "data": {
      "text/plain": [
       "<AxesSubplot: xlabel='Equiv_Diameter'>"
      ]
     },
     "execution_count": 22,
     "metadata": {},
     "output_type": "execute_result"
    },
    {
     "data": {
      "image/png": "[encoded data removed]",
      "text/plain": [
       "<Figure size 640x480 with 1 Axes>"
      ]
     },
     "metadata": {},
     "output_type": "display_data"
    }
   ],
   "source": [
    "sns.boxplot(x=df_Pumpkin_Seeds['Equiv_Diameter'])"
   ]
  },
  {
   "cell_type": "markdown",
   "id": "0c2dc5f0",
   "metadata": {},
   "source": [
    "## 3.7 Eccentricity"
   ]
  },
  {
   "cell_type": "code",
   "execution_count": 23,
   "id": "681ab20c",
   "metadata": {},
   "outputs": [
    {
     "data": {
      "text/plain": [
       "<AxesSubplot: xlabel='Eccentricity'>"
      ]
     },
     "execution_count": 23,
     "metadata": {},
     "output_type": "execute_result"
    },
    {
     "data": {
      "image/png": "[encoded data removed]",
      "text/plain": [
       "<Figure size 640x480 with 1 Axes>"
      ]
     },
     "metadata": {},
     "output_type": "display_data"
    }
   ],
   "source": [
    "sns.boxplot(x=df_Pumpkin_Seeds['Eccentricity'])"
   ]
  },
  {
   "cell_type": "code",
   "execution_count": 24,
   "id": "de531256",
   "metadata": {},
   "outputs": [],
   "source": [
    "df_Pumpkin_Seeds['Eccentricity'] = np.where(df_Pumpkin_Seeds['Eccentricity']<0.74, df_Pumpkin_Seeds['Eccentricity'].median(), df_Pumpkin_Seeds.Eccentricity)"
   ]
  },
  {
   "cell_type": "code",
   "execution_count": 25,
   "id": "f312b912",
   "metadata": {},
   "outputs": [
    {
     "data": {
      "text/plain": [
       "<AxesSubplot: xlabel='Eccentricity'>"
      ]
     },
     "execution_count": 25,
     "metadata": {},
     "output_type": "execute_result"
    },
    {
     "data": {
      "image/png": "[encoded data removed]",
      "text/plain": [
       "<Figure size 640x480 with 1 Axes>"
      ]
     },
     "metadata": {},
     "output_type": "display_data"
    }
   ],
   "source": [
    "sns.boxplot(x=df_Pumpkin_Seeds['Eccentricity'])"
   ]
  },
  {
   "cell_type": "markdown",
   "id": "a40ae815",
   "metadata": {},
   "source": [
    "## 3.8 Solidity"
   ]
  },
  {
   "cell_type": "code",
   "execution_count": 26,
   "id": "d2df9f63",
   "metadata": {},
   "outputs": [
    {
     "data": {
      "text/plain": [
       "<AxesSubplot: xlabel='Solidity'>"
      ]
     },
     "execution_count": 26,
     "metadata": {},
     "output_type": "execute_result"
    },
    {
     "data": {
      "image/png": "[encoded data removed]",
      "text/plain": [
       "<Figure size 640x480 with 1 Axes>"
      ]
     },
     "metadata": {},
     "output_type": "display_data"
    }
   ],
   "source": [
    "sns.boxplot(x=df_Pumpkin_Seeds['Solidity'])"
   ]
  },
  {
   "cell_type": "code",
   "execution_count": 27,
   "id": "98c6ce7b",
   "metadata": {},
   "outputs": [],
   "source": [
    "df_Pumpkin_Seeds['Solidity'] = np.where(df_Pumpkin_Seeds['Solidity']< 0.985, df_Pumpkin_Seeds['Solidity'].median(), df_Pumpkin_Seeds.Solidity)"
   ]
  },
  {
   "cell_type": "code",
   "execution_count": 28,
   "id": "86ff1aaf",
   "metadata": {},
   "outputs": [
    {
     "data": {
      "text/plain": [
       "<AxesSubplot: xlabel='Solidity'>"
      ]
     },
     "execution_count": 28,
     "metadata": {},
     "output_type": "execute_result"
    },
    {
     "data": {
      "image/png": "[encoded data removed]",
      "text/plain": [
       "<Figure size 640x480 with 1 Axes>"
      ]
     },
     "metadata": {},
     "output_type": "display_data"
    }
   ],
   "source": [
    "sns.boxplot(x=df_Pumpkin_Seeds['Solidity'])"
   ]
  },
  {
   "cell_type": "markdown",
   "id": "bb91fe38",
   "metadata": {},
   "source": [
    "## 3.9 Extent"
   ]
  },
  {
   "cell_type": "code",
   "execution_count": 29,
   "id": "7197be8d",
   "metadata": {},
   "outputs": [
    {
     "data": {
      "text/plain": [
       "<AxesSubplot: xlabel='Extent'>"
      ]
     },
     "execution_count": 29,
     "metadata": {},
     "output_type": "execute_result"
    },
    {
     "data": {
      "image/png": "[encoded data removed]",
      "text/plain": [
       "<Figure size 640x480 with 1 Axes>"
      ]
     },
     "metadata": {},
     "output_type": "display_data"
    }
   ],
   "source": [
    "sns.boxplot(x=df_Pumpkin_Seeds['Extent'])"
   ]
  },
  {
   "cell_type": "code",
   "execution_count": 30,
   "id": "ba3e970d",
   "metadata": {},
   "outputs": [],
   "source": [
    "df_Pumpkin_Seeds['Extent'] = np.where(df_Pumpkin_Seeds['Extent']< 0.57, df_Pumpkin_Seeds['Extent'].median(), df_Pumpkin_Seeds.Extent)"
   ]
  },
  {
   "cell_type": "code",
   "execution_count": 31,
   "id": "ddffb43b",
   "metadata": {},
   "outputs": [
    {
     "data": {
      "text/plain": [
       "<AxesSubplot: xlabel='Extent'>"
      ]
     },
     "execution_count": 31,
     "metadata": {},
     "output_type": "execute_result"
    },
    {
     "data": {
      "image/png": "[encoded data removed]",
      "text/plain": [
       "<Figure size 640x480 with 1 Axes>"
      ]
     },
     "metadata": {},
     "output_type": "display_data"
    }
   ],
   "source": [
    "sns.boxplot(x=df_Pumpkin_Seeds['Extent'])"
   ]
  },
  {
   "cell_type": "markdown",
   "id": "b58f2b2b",
   "metadata": {},
   "source": [
    "## 3.10 Roundness"
   ]
  },
  {
   "cell_type": "code",
   "execution_count": 32,
   "id": "58905e54",
   "metadata": {},
   "outputs": [
    {
     "data": {
      "text/plain": [
       "<AxesSubplot: xlabel='Roundness'>"
      ]
     },
     "execution_count": 32,
     "metadata": {},
     "output_type": "execute_result"
    },
    {
     "data": {
      "image/png": "[encoded data removed]",
      "text/plain": [
       "<Figure size 640x480 with 1 Axes>"
      ]
     },
     "metadata": {},
     "output_type": "display_data"
    }
   ],
   "source": [
    "import matplotlib\n",
    "%matplotlib inline\n",
    "sns.boxplot(x=df_Pumpkin_Seeds['Roundness'])"
   ]
  },
  {
   "cell_type": "code",
   "execution_count": 33,
   "id": "7fb873ba",
   "metadata": {},
   "outputs": [],
   "source": [
    "df_Pumpkin_Seeds['Roundness'] = np.where(df_Pumpkin_Seeds['Roundness']< 0.63, df_Pumpkin_Seeds['Roundness'].median(), df_Pumpkin_Seeds.Roundness)"
   ]
  },
  {
   "cell_type": "code",
   "execution_count": 34,
   "id": "02071674",
   "metadata": {},
   "outputs": [
    {
     "data": {
      "text/plain": [
       "<AxesSubplot: xlabel='Roundness'>"
      ]
     },
     "execution_count": 34,
     "metadata": {},
     "output_type": "execute_result"
    },
    {
     "data": {
      "image/png": "[encoded data removed]",
      "text/plain": [
       "<Figure size 640x480 with 1 Axes>"
      ]
     },
     "metadata": {},
     "output_type": "display_data"
    }
   ],
   "source": [
    "sns.boxplot(x=df_Pumpkin_Seeds['Roundness'])"
   ]
  },
  {
   "cell_type": "markdown",
   "id": "c172933c",
   "metadata": {},
   "source": [
    "## 3.11 Aspect_Ration"
   ]
  },
  {
   "cell_type": "code",
   "execution_count": 35,
   "id": "9fead810",
   "metadata": {},
   "outputs": [
    {
     "data": {
      "text/plain": [
       "<AxesSubplot: xlabel='Aspect_Ration'>"
      ]
     },
     "execution_count": 35,
     "metadata": {},
     "output_type": "execute_result"
    },
    {
     "data": {
      "image/png": "[encoded data removed]",
      "text/plain": [
       "<Figure size 640x480 with 1 Axes>"
      ]
     },
     "metadata": {},
     "output_type": "display_data"
    }
   ],
   "source": [
    "sns.boxplot(x=df_Pumpkin_Seeds['Aspect_Ration'])"
   ]
  },
  {
   "cell_type": "code",
   "execution_count": 36,
   "id": "94bc3739",
   "metadata": {},
   "outputs": [],
   "source": [
    "df_Pumpkin_Seeds['Aspect_Ration'] = np.where(df_Pumpkin_Seeds['Aspect_Ration']> 2.90, df_Pumpkin_Seeds['Aspect_Ration'].median(), df_Pumpkin_Seeds.Aspect_Ration)"
   ]
  },
  {
   "cell_type": "code",
   "execution_count": 37,
   "id": "6219a8d7",
   "metadata": {},
   "outputs": [
    {
     "data": {
      "text/plain": [
       "<AxesSubplot: xlabel='Aspect_Ration'>"
      ]
     },
     "execution_count": 37,
     "metadata": {},
     "output_type": "execute_result"
    },
    {
     "data": {
      "image/png": "[encoded data removed]",
      "text/plain": [
       "<Figure size 640x480 with 1 Axes>"
      ]
     },
     "metadata": {},
     "output_type": "display_data"
    }
   ],
   "source": [
    "sns.boxplot(x=df_Pumpkin_Seeds['Aspect_Ration'])"
   ]
  },
  {
   "cell_type": "markdown",
   "id": "a94dcf5d",
   "metadata": {},
   "source": [
    "## 3.12 Compactness"
   ]
  },
  {
   "cell_type": "code",
   "execution_count": 38,
   "id": "f85f5572",
   "metadata": {},
   "outputs": [
    {
     "data": {
      "text/plain": [
       "<AxesSubplot: xlabel='Compactness'>"
      ]
     },
     "execution_count": 38,
     "metadata": {},
     "output_type": "execute_result"
    },
    {
     "data": {
      "image/png": "[encoded data removed]",
      "text/plain": [
       "<Figure size 640x480 with 1 Axes>"
      ]
     },
     "metadata": {},
     "output_type": "display_data"
    }
   ],
   "source": [
    "sns.boxplot(x=df_Pumpkin_Seeds['Compactness'])"
   ]
  },
  {
   "cell_type": "code",
   "execution_count": 39,
   "id": "94050d33",
   "metadata": {},
   "outputs": [],
   "source": [
    "df_Pumpkin_Seeds['Compactness'] = np.where(df_Pumpkin_Seeds['Compactness'] >0.86, df_Pumpkin_Seeds['Compactness'].median(), df_Pumpkin_Seeds.Compactness)"
   ]
  },
  {
   "cell_type": "code",
   "execution_count": 40,
   "id": "74ae40c7",
   "metadata": {},
   "outputs": [
    {
     "data": {
      "text/plain": [
       "<AxesSubplot: xlabel='Compactness'>"
      ]
     },
     "execution_count": 40,
     "metadata": {},
     "output_type": "execute_result"
    },
    {
     "data": {
      "image/png": "[encoded data removed]",
      "text/plain": [
       "<Figure size 640x480 with 1 Axes>"
      ]
     },
     "metadata": {},
     "output_type": "display_data"
    }
   ],
   "source": [
    "sns.boxplot(x=df_Pumpkin_Seeds['Compactness'])"
   ]
  },
  {
   "cell_type": "code",
   "execution_count": 41,
   "id": "2cd66d24",
   "metadata": {},
   "outputs": [
    {
     "data": {
      "text/plain": [
       "{'Çerçevelik': 1300, 'Ürgüp Sivrisi': 1200}"
      ]
     },
     "execution_count": 41,
     "metadata": {},
     "output_type": "execute_result"
    }
   ],
   "source": [
    "df_Pumpkin_Seeds['Class'].value_counts().to_dict()"
   ]
  },
  {
   "cell_type": "code",
   "execution_count": 42,
   "id": "3d0c7460",
   "metadata": {},
   "outputs": [
    {
     "data": {
      "text/html": [
       "<div>\n",
       "<style scoped>\n",
       "    .dataframe tbody tr th:only-of-type {\n",
       "        vertical-align: middle;\n",
       "    }\n",
       "\n",
       "    .dataframe tbody tr th {\n",
       "        vertical-align: top;\n",
       "    }\n",
       "\n",
       "    .dataframe thead th {\n",
       "        text-align: right;\n",
       "    }\n",
       "</style>\n",
       "<table border=\"1\" class=\"dataframe\">\n",
       "  <thead>\n",
       "    <tr style=\"text-align: right;\">\n",
       "      <th></th>\n",
       "      <th>Area</th>\n",
       "      <th>Perimeter</th>\n",
       "      <th>Major_Axis_Length</th>\n",
       "      <th>Minor_Axis_Length</th>\n",
       "      <th>Convex_Area</th>\n",
       "      <th>Equiv_Diameter</th>\n",
       "      <th>Eccentricity</th>\n",
       "      <th>Solidity</th>\n",
       "      <th>Extent</th>\n",
       "      <th>Roundness</th>\n",
       "      <th>Aspect_Ration</th>\n",
       "      <th>Compactness</th>\n",
       "      <th>Class</th>\n",
       "    </tr>\n",
       "  </thead>\n",
       "  <tbody>\n",
       "    <tr>\n",
       "      <th>0</th>\n",
       "      <td>56276.0</td>\n",
       "      <td>888.242</td>\n",
       "      <td>326.1485</td>\n",
       "      <td>220.2388</td>\n",
       "      <td>56831.0</td>\n",
       "      <td>267.6805</td>\n",
       "      <td>0.8637</td>\n",
       "      <td>0.9902</td>\n",
       "      <td>0.74530</td>\n",
       "      <td>0.8963</td>\n",
       "      <td>1.4809</td>\n",
       "      <td>0.8207</td>\n",
       "      <td>Çerçevelik</td>\n",
       "    </tr>\n",
       "    <tr>\n",
       "      <th>1</th>\n",
       "      <td>76631.0</td>\n",
       "      <td>1068.146</td>\n",
       "      <td>417.1932</td>\n",
       "      <td>234.2289</td>\n",
       "      <td>77280.0</td>\n",
       "      <td>312.3614</td>\n",
       "      <td>0.8275</td>\n",
       "      <td>0.9916</td>\n",
       "      <td>0.71510</td>\n",
       "      <td>0.8440</td>\n",
       "      <td>1.7811</td>\n",
       "      <td>0.7487</td>\n",
       "      <td>Çerçevelik</td>\n",
       "    </tr>\n",
       "    <tr>\n",
       "      <th>2</th>\n",
       "      <td>71623.0</td>\n",
       "      <td>1082.987</td>\n",
       "      <td>435.8328</td>\n",
       "      <td>211.0457</td>\n",
       "      <td>72663.0</td>\n",
       "      <td>301.9822</td>\n",
       "      <td>0.8749</td>\n",
       "      <td>0.9857</td>\n",
       "      <td>0.74000</td>\n",
       "      <td>0.7674</td>\n",
       "      <td>2.0651</td>\n",
       "      <td>0.6929</td>\n",
       "      <td>Çerçevelik</td>\n",
       "    </tr>\n",
       "    <tr>\n",
       "      <th>3</th>\n",
       "      <td>66458.0</td>\n",
       "      <td>992.051</td>\n",
       "      <td>381.5638</td>\n",
       "      <td>222.5322</td>\n",
       "      <td>67118.0</td>\n",
       "      <td>290.8899</td>\n",
       "      <td>0.8123</td>\n",
       "      <td>0.9902</td>\n",
       "      <td>0.73960</td>\n",
       "      <td>0.8486</td>\n",
       "      <td>1.7146</td>\n",
       "      <td>0.7624</td>\n",
       "      <td>Çerçevelik</td>\n",
       "    </tr>\n",
       "    <tr>\n",
       "      <th>4</th>\n",
       "      <td>66107.0</td>\n",
       "      <td>998.146</td>\n",
       "      <td>383.8883</td>\n",
       "      <td>220.4545</td>\n",
       "      <td>67117.0</td>\n",
       "      <td>290.1207</td>\n",
       "      <td>0.8187</td>\n",
       "      <td>0.9850</td>\n",
       "      <td>0.67520</td>\n",
       "      <td>0.8338</td>\n",
       "      <td>1.7413</td>\n",
       "      <td>0.7557</td>\n",
       "      <td>Çerçevelik</td>\n",
       "    </tr>\n",
       "    <tr>\n",
       "      <th>...</th>\n",
       "      <td>...</td>\n",
       "      <td>...</td>\n",
       "      <td>...</td>\n",
       "      <td>...</td>\n",
       "      <td>...</td>\n",
       "      <td>...</td>\n",
       "      <td>...</td>\n",
       "      <td>...</td>\n",
       "      <td>...</td>\n",
       "      <td>...</td>\n",
       "      <td>...</td>\n",
       "      <td>...</td>\n",
       "      <td>...</td>\n",
       "    </tr>\n",
       "    <tr>\n",
       "      <th>2495</th>\n",
       "      <td>79637.0</td>\n",
       "      <td>1224.710</td>\n",
       "      <td>533.1513</td>\n",
       "      <td>190.4367</td>\n",
       "      <td>80381.0</td>\n",
       "      <td>318.4289</td>\n",
       "      <td>0.9340</td>\n",
       "      <td>0.9907</td>\n",
       "      <td>0.71305</td>\n",
       "      <td>0.6672</td>\n",
       "      <td>2.7996</td>\n",
       "      <td>0.5973</td>\n",
       "      <td>Ürgüp Sivrisi</td>\n",
       "    </tr>\n",
       "    <tr>\n",
       "      <th>2496</th>\n",
       "      <td>69647.0</td>\n",
       "      <td>1084.318</td>\n",
       "      <td>462.9416</td>\n",
       "      <td>191.8210</td>\n",
       "      <td>70216.0</td>\n",
       "      <td>297.7874</td>\n",
       "      <td>0.9101</td>\n",
       "      <td>0.9919</td>\n",
       "      <td>0.60020</td>\n",
       "      <td>0.7444</td>\n",
       "      <td>2.4134</td>\n",
       "      <td>0.6433</td>\n",
       "      <td>Ürgüp Sivrisi</td>\n",
       "    </tr>\n",
       "    <tr>\n",
       "      <th>2497</th>\n",
       "      <td>87994.0</td>\n",
       "      <td>1210.314</td>\n",
       "      <td>507.2200</td>\n",
       "      <td>222.1872</td>\n",
       "      <td>88702.0</td>\n",
       "      <td>334.7199</td>\n",
       "      <td>0.8990</td>\n",
       "      <td>0.9920</td>\n",
       "      <td>0.76430</td>\n",
       "      <td>0.7549</td>\n",
       "      <td>2.2828</td>\n",
       "      <td>0.6599</td>\n",
       "      <td>Ürgüp Sivrisi</td>\n",
       "    </tr>\n",
       "    <tr>\n",
       "      <th>2498</th>\n",
       "      <td>80011.0</td>\n",
       "      <td>1182.947</td>\n",
       "      <td>501.9065</td>\n",
       "      <td>204.7531</td>\n",
       "      <td>80902.0</td>\n",
       "      <td>319.1758</td>\n",
       "      <td>0.9130</td>\n",
       "      <td>0.9890</td>\n",
       "      <td>0.73740</td>\n",
       "      <td>0.7185</td>\n",
       "      <td>2.4513</td>\n",
       "      <td>0.6359</td>\n",
       "      <td>Ürgüp Sivrisi</td>\n",
       "    </tr>\n",
       "    <tr>\n",
       "      <th>2499</th>\n",
       "      <td>84934.0</td>\n",
       "      <td>1159.933</td>\n",
       "      <td>462.8951</td>\n",
       "      <td>234.5597</td>\n",
       "      <td>85781.0</td>\n",
       "      <td>328.8485</td>\n",
       "      <td>0.8621</td>\n",
       "      <td>0.9901</td>\n",
       "      <td>0.73600</td>\n",
       "      <td>0.7933</td>\n",
       "      <td>1.9735</td>\n",
       "      <td>0.7104</td>\n",
       "      <td>Ürgüp Sivrisi</td>\n",
       "    </tr>\n",
       "  </tbody>\n",
       "</table>\n",
       "<p>2500 rows × 13 columns</p>\n",
       "</div>"
      ],
      "text/plain": [
       "         Area  Perimeter  Major_Axis_Length  Minor_Axis_Length  Convex_Area  \\\n",
       "0     56276.0    888.242           326.1485           220.2388      56831.0   \n",
       "1     76631.0   1068.146           417.1932           234.2289      77280.0   \n",
       "2     71623.0   1082.987           435.8328           211.0457      72663.0   \n",
       "3     66458.0    992.051           381.5638           222.5322      67118.0   \n",
       "4     66107.0    998.146           383.8883           220.4545      67117.0   \n",
       "...       ...        ...                ...                ...          ...   \n",
       "2495  79637.0   1224.710           533.1513           190.4367      80381.0   \n",
       "2496  69647.0   1084.318           462.9416           191.8210      70216.0   \n",
       "2497  87994.0   1210.314           507.2200           222.1872      88702.0   \n",
       "2498  80011.0   1182.947           501.9065           204.7531      80902.0   \n",
       "2499  84934.0   1159.933           462.8951           234.5597      85781.0   \n",
       "\n",
       "      Equiv_Diameter  Eccentricity  Solidity   Extent  Roundness  \\\n",
       "0           267.6805        0.8637    0.9902  0.74530     0.8963   \n",
       "1           312.3614        0.8275    0.9916  0.71510     0.8440   \n",
       "2           301.9822        0.8749    0.9857  0.74000     0.7674   \n",
       "3           290.8899        0.8123    0.9902  0.73960     0.8486   \n",
       "4           290.1207        0.8187    0.9850  0.67520     0.8338   \n",
       "...              ...           ...       ...      ...        ...   \n",
       "2495        318.4289        0.9340    0.9907  0.71305     0.6672   \n",
       "2496        297.7874        0.9101    0.9919  0.60020     0.7444   \n",
       "2497        334.7199        0.8990    0.9920  0.76430     0.7549   \n",
       "2498        319.1758        0.9130    0.9890  0.73740     0.7185   \n",
       "2499        328.8485        0.8621    0.9901  0.73600     0.7933   \n",
       "\n",
       "      Aspect_Ration  Compactness          Class  \n",
       "0            1.4809       0.8207     Çerçevelik  \n",
       "1            1.7811       0.7487     Çerçevelik  \n",
       "2            2.0651       0.6929     Çerçevelik  \n",
       "3            1.7146       0.7624     Çerçevelik  \n",
       "4            1.7413       0.7557     Çerçevelik  \n",
       "...             ...          ...            ...  \n",
       "2495         2.7996       0.5973  Ürgüp Sivrisi  \n",
       "2496         2.4134       0.6433  Ürgüp Sivrisi  \n",
       "2497         2.2828       0.6599  Ürgüp Sivrisi  \n",
       "2498         2.4513       0.6359  Ürgüp Sivrisi  \n",
       "2499         1.9735       0.7104  Ürgüp Sivrisi  \n",
       "\n",
       "[2500 rows x 13 columns]"
      ]
     },
     "execution_count": 42,
     "metadata": {},
     "output_type": "execute_result"
    }
   ],
   "source": [
    "df_Pumpkin_Seeds"
   ]
  },
  {
   "cell_type": "markdown",
   "id": "cf307178",
   "metadata": {},
   "source": [
    "## 4. Feature Engineering"
   ]
  },
  {
   "cell_type": "markdown",
   "id": "1a344ebe",
   "metadata": {},
   "source": [
    "## 5. Feature Selection"
   ]
  },
  {
   "cell_type": "markdown",
   "id": "423dd926",
   "metadata": {},
   "source": [
    "## vif"
   ]
  },
  {
   "cell_type": "code",
   "execution_count": 43,
   "id": "4e54d950",
   "metadata": {},
   "outputs": [],
   "source": [
    "from statsmodels.stats.outliers_influence import variance_inflation_factor"
   ]
  },
  {
   "cell_type": "code",
   "execution_count": 44,
   "id": "0bbbffcd",
   "metadata": {},
   "outputs": [
    {
     "data": {
      "text/html": [
       "<div>\n",
       "<style scoped>\n",
       "    .dataframe tbody tr th:only-of-type {\n",
       "        vertical-align: middle;\n",
       "    }\n",
       "\n",
       "    .dataframe tbody tr th {\n",
       "        vertical-align: top;\n",
       "    }\n",
       "\n",
       "    .dataframe thead th {\n",
       "        text-align: right;\n",
       "    }\n",
       "</style>\n",
       "<table border=\"1\" class=\"dataframe\">\n",
       "  <thead>\n",
       "    <tr style=\"text-align: right;\">\n",
       "      <th></th>\n",
       "      <th>Area</th>\n",
       "      <th>Perimeter</th>\n",
       "      <th>Major_Axis_Length</th>\n",
       "      <th>Minor_Axis_Length</th>\n",
       "      <th>Convex_Area</th>\n",
       "      <th>Equiv_Diameter</th>\n",
       "      <th>Eccentricity</th>\n",
       "      <th>Solidity</th>\n",
       "      <th>Extent</th>\n",
       "      <th>Roundness</th>\n",
       "      <th>Aspect_Ration</th>\n",
       "      <th>Compactness</th>\n",
       "    </tr>\n",
       "  </thead>\n",
       "  <tbody>\n",
       "    <tr>\n",
       "      <th>0</th>\n",
       "      <td>56276.0</td>\n",
       "      <td>888.242</td>\n",
       "      <td>326.1485</td>\n",
       "      <td>220.2388</td>\n",
       "      <td>56831.0</td>\n",
       "      <td>267.6805</td>\n",
       "      <td>0.8637</td>\n",
       "      <td>0.9902</td>\n",
       "      <td>0.74530</td>\n",
       "      <td>0.8963</td>\n",
       "      <td>1.4809</td>\n",
       "      <td>0.8207</td>\n",
       "    </tr>\n",
       "    <tr>\n",
       "      <th>1</th>\n",
       "      <td>76631.0</td>\n",
       "      <td>1068.146</td>\n",
       "      <td>417.1932</td>\n",
       "      <td>234.2289</td>\n",
       "      <td>77280.0</td>\n",
       "      <td>312.3614</td>\n",
       "      <td>0.8275</td>\n",
       "      <td>0.9916</td>\n",
       "      <td>0.71510</td>\n",
       "      <td>0.8440</td>\n",
       "      <td>1.7811</td>\n",
       "      <td>0.7487</td>\n",
       "    </tr>\n",
       "    <tr>\n",
       "      <th>2</th>\n",
       "      <td>71623.0</td>\n",
       "      <td>1082.987</td>\n",
       "      <td>435.8328</td>\n",
       "      <td>211.0457</td>\n",
       "      <td>72663.0</td>\n",
       "      <td>301.9822</td>\n",
       "      <td>0.8749</td>\n",
       "      <td>0.9857</td>\n",
       "      <td>0.74000</td>\n",
       "      <td>0.7674</td>\n",
       "      <td>2.0651</td>\n",
       "      <td>0.6929</td>\n",
       "    </tr>\n",
       "    <tr>\n",
       "      <th>3</th>\n",
       "      <td>66458.0</td>\n",
       "      <td>992.051</td>\n",
       "      <td>381.5638</td>\n",
       "      <td>222.5322</td>\n",
       "      <td>67118.0</td>\n",
       "      <td>290.8899</td>\n",
       "      <td>0.8123</td>\n",
       "      <td>0.9902</td>\n",
       "      <td>0.73960</td>\n",
       "      <td>0.8486</td>\n",
       "      <td>1.7146</td>\n",
       "      <td>0.7624</td>\n",
       "    </tr>\n",
       "    <tr>\n",
       "      <th>4</th>\n",
       "      <td>66107.0</td>\n",
       "      <td>998.146</td>\n",
       "      <td>383.8883</td>\n",
       "      <td>220.4545</td>\n",
       "      <td>67117.0</td>\n",
       "      <td>290.1207</td>\n",
       "      <td>0.8187</td>\n",
       "      <td>0.9850</td>\n",
       "      <td>0.67520</td>\n",
       "      <td>0.8338</td>\n",
       "      <td>1.7413</td>\n",
       "      <td>0.7557</td>\n",
       "    </tr>\n",
       "    <tr>\n",
       "      <th>...</th>\n",
       "      <td>...</td>\n",
       "      <td>...</td>\n",
       "      <td>...</td>\n",
       "      <td>...</td>\n",
       "      <td>...</td>\n",
       "      <td>...</td>\n",
       "      <td>...</td>\n",
       "      <td>...</td>\n",
       "      <td>...</td>\n",
       "      <td>...</td>\n",
       "      <td>...</td>\n",
       "      <td>...</td>\n",
       "    </tr>\n",
       "    <tr>\n",
       "      <th>2495</th>\n",
       "      <td>79637.0</td>\n",
       "      <td>1224.710</td>\n",
       "      <td>533.1513</td>\n",
       "      <td>190.4367</td>\n",
       "      <td>80381.0</td>\n",
       "      <td>318.4289</td>\n",
       "      <td>0.9340</td>\n",
       "      <td>0.9907</td>\n",
       "      <td>0.71305</td>\n",
       "      <td>0.6672</td>\n",
       "      <td>2.7996</td>\n",
       "      <td>0.5973</td>\n",
       "    </tr>\n",
       "    <tr>\n",
       "      <th>2496</th>\n",
       "      <td>69647.0</td>\n",
       "      <td>1084.318</td>\n",
       "      <td>462.9416</td>\n",
       "      <td>191.8210</td>\n",
       "      <td>70216.0</td>\n",
       "      <td>297.7874</td>\n",
       "      <td>0.9101</td>\n",
       "      <td>0.9919</td>\n",
       "      <td>0.60020</td>\n",
       "      <td>0.7444</td>\n",
       "      <td>2.4134</td>\n",
       "      <td>0.6433</td>\n",
       "    </tr>\n",
       "    <tr>\n",
       "      <th>2497</th>\n",
       "      <td>87994.0</td>\n",
       "      <td>1210.314</td>\n",
       "      <td>507.2200</td>\n",
       "      <td>222.1872</td>\n",
       "      <td>88702.0</td>\n",
       "      <td>334.7199</td>\n",
       "      <td>0.8990</td>\n",
       "      <td>0.9920</td>\n",
       "      <td>0.76430</td>\n",
       "      <td>0.7549</td>\n",
       "      <td>2.2828</td>\n",
       "      <td>0.6599</td>\n",
       "    </tr>\n",
       "    <tr>\n",
       "      <th>2498</th>\n",
       "      <td>80011.0</td>\n",
       "      <td>1182.947</td>\n",
       "      <td>501.9065</td>\n",
       "      <td>204.7531</td>\n",
       "      <td>80902.0</td>\n",
       "      <td>319.1758</td>\n",
       "      <td>0.9130</td>\n",
       "      <td>0.9890</td>\n",
       "      <td>0.73740</td>\n",
       "      <td>0.7185</td>\n",
       "      <td>2.4513</td>\n",
       "      <td>0.6359</td>\n",
       "    </tr>\n",
       "    <tr>\n",
       "      <th>2499</th>\n",
       "      <td>84934.0</td>\n",
       "      <td>1159.933</td>\n",
       "      <td>462.8951</td>\n",
       "      <td>234.5597</td>\n",
       "      <td>85781.0</td>\n",
       "      <td>328.8485</td>\n",
       "      <td>0.8621</td>\n",
       "      <td>0.9901</td>\n",
       "      <td>0.73600</td>\n",
       "      <td>0.7933</td>\n",
       "      <td>1.9735</td>\n",
       "      <td>0.7104</td>\n",
       "    </tr>\n",
       "  </tbody>\n",
       "</table>\n",
       "<p>2500 rows × 12 columns</p>\n",
       "</div>"
      ],
      "text/plain": [
       "         Area  Perimeter  Major_Axis_Length  Minor_Axis_Length  Convex_Area  \\\n",
       "0     56276.0    888.242           326.1485           220.2388      56831.0   \n",
       "1     76631.0   1068.146           417.1932           234.2289      77280.0   \n",
       "2     71623.0   1082.987           435.8328           211.0457      72663.0   \n",
       "3     66458.0    992.051           381.5638           222.5322      67118.0   \n",
       "4     66107.0    998.146           383.8883           220.4545      67117.0   \n",
       "...       ...        ...                ...                ...          ...   \n",
       "2495  79637.0   1224.710           533.1513           190.4367      80381.0   \n",
       "2496  69647.0   1084.318           462.9416           191.8210      70216.0   \n",
       "2497  87994.0   1210.314           507.2200           222.1872      88702.0   \n",
       "2498  80011.0   1182.947           501.9065           204.7531      80902.0   \n",
       "2499  84934.0   1159.933           462.8951           234.5597      85781.0   \n",
       "\n",
       "      Equiv_Diameter  Eccentricity  Solidity   Extent  Roundness  \\\n",
       "0           267.6805        0.8637    0.9902  0.74530     0.8963   \n",
       "1           312.3614        0.8275    0.9916  0.71510     0.8440   \n",
       "2           301.9822        0.8749    0.9857  0.74000     0.7674   \n",
       "3           290.8899        0.8123    0.9902  0.73960     0.8486   \n",
       "4           290.1207        0.8187    0.9850  0.67520     0.8338   \n",
       "...              ...           ...       ...      ...        ...   \n",
       "2495        318.4289        0.9340    0.9907  0.71305     0.6672   \n",
       "2496        297.7874        0.9101    0.9919  0.60020     0.7444   \n",
       "2497        334.7199        0.8990    0.9920  0.76430     0.7549   \n",
       "2498        319.1758        0.9130    0.9890  0.73740     0.7185   \n",
       "2499        328.8485        0.8621    0.9901  0.73600     0.7933   \n",
       "\n",
       "      Aspect_Ration  Compactness  \n",
       "0            1.4809       0.8207  \n",
       "1            1.7811       0.7487  \n",
       "2            2.0651       0.6929  \n",
       "3            1.7146       0.7624  \n",
       "4            1.7413       0.7557  \n",
       "...             ...          ...  \n",
       "2495         2.7996       0.5973  \n",
       "2496         2.4134       0.6433  \n",
       "2497         2.2828       0.6599  \n",
       "2498         2.4513       0.6359  \n",
       "2499         1.9735       0.7104  \n",
       "\n",
       "[2500 rows x 12 columns]"
      ]
     },
     "execution_count": 44,
     "metadata": {},
     "output_type": "execute_result"
    }
   ],
   "source": [
    "x=df_Pumpkin_Seeds.drop('Class',axis=1)\n",
    "x"
   ]
  },
  {
   "cell_type": "code",
   "execution_count": 45,
   "id": "28d34922",
   "metadata": {},
   "outputs": [
    {
     "data": {
      "text/plain": [
       "<AxesSubplot: >"
      ]
     },
     "execution_count": 45,
     "metadata": {},
     "output_type": "execute_result"
    },
    {
     "data": {
      "image/png": "[encoded data removed]",
      "text/plain": [
       "<Figure size 640x480 with 1 Axes>"
      ]
     },
     "metadata": {},
     "output_type": "display_data"
    }
   ],
   "source": [
    "vif_list = []\n",
    "\n",
    "for i in range(x.shape[1]):\n",
    "    vif = variance_inflation_factor(x.values, i)\n",
    "    vif_list.append(round(vif,2))\n",
    "    \n",
    "s1 = pd.Series(vif_list, index=x.columns)\n",
    "s1.sort_values().plot(kind= 'barh')"
   ]
  },
  {
   "cell_type": "code",
   "execution_count": 46,
   "id": "fbed7ba4",
   "metadata": {},
   "outputs": [
    {
     "data": {
      "text/html": [
       "<div>\n",
       "<style scoped>\n",
       "    .dataframe tbody tr th:only-of-type {\n",
       "        vertical-align: middle;\n",
       "    }\n",
       "\n",
       "    .dataframe tbody tr th {\n",
       "        vertical-align: top;\n",
       "    }\n",
       "\n",
       "    .dataframe thead th {\n",
       "        text-align: right;\n",
       "    }\n",
       "</style>\n",
       "<table border=\"1\" class=\"dataframe\">\n",
       "  <thead>\n",
       "    <tr style=\"text-align: right;\">\n",
       "      <th></th>\n",
       "      <th>Area</th>\n",
       "      <th>Perimeter</th>\n",
       "      <th>Major_Axis_Length</th>\n",
       "      <th>Minor_Axis_Length</th>\n",
       "      <th>Convex_Area</th>\n",
       "      <th>Equiv_Diameter</th>\n",
       "      <th>Eccentricity</th>\n",
       "      <th>Solidity</th>\n",
       "      <th>Extent</th>\n",
       "      <th>Roundness</th>\n",
       "      <th>Aspect_Ration</th>\n",
       "      <th>Compactness</th>\n",
       "    </tr>\n",
       "  </thead>\n",
       "  <tbody>\n",
       "    <tr>\n",
       "      <th>Compactness</th>\n",
       "      <td>-0.142223</td>\n",
       "      <td>-0.468947</td>\n",
       "      <td>-0.708677</td>\n",
       "      <td>0.547983</td>\n",
       "      <td>-0.141433</td>\n",
       "      <td>-0.143985</td>\n",
       "      <td>-0.962032</td>\n",
       "      <td>-0.022003</td>\n",
       "      <td>0.160267</td>\n",
       "      <td>0.934513</td>\n",
       "      <td>-0.964971</td>\n",
       "      <td>1.0</td>\n",
       "    </tr>\n",
       "  </tbody>\n",
       "</table>\n",
       "</div>"
      ],
      "text/plain": [
       "                 Area  Perimeter  Major_Axis_Length  Minor_Axis_Length  \\\n",
       "Compactness -0.142223  -0.468947          -0.708677           0.547983   \n",
       "\n",
       "             Convex_Area  Equiv_Diameter  Eccentricity  Solidity    Extent  \\\n",
       "Compactness    -0.141433       -0.143985     -0.962032 -0.022003  0.160267   \n",
       "\n",
       "             Roundness  Aspect_Ration  Compactness  \n",
       "Compactness   0.934513      -0.964971          1.0  "
      ]
     },
     "execution_count": 46,
     "metadata": {},
     "output_type": "execute_result"
    }
   ],
   "source": [
    "df_Pumpkin_Seeds.corr().tail(1)"
   ]
  },
  {
   "cell_type": "markdown",
   "id": "67ead60a",
   "metadata": {},
   "source": [
    "## 6. Model Training"
   ]
  },
  {
   "cell_type": "markdown",
   "id": "4534a343",
   "metadata": {},
   "source": [
    "## Train test Split¶"
   ]
  },
  {
   "cell_type": "code",
   "execution_count": 47,
   "id": "630b80fb",
   "metadata": {},
   "outputs": [],
   "source": [
    "x=df_Pumpkin_Seeds.drop('Class',axis=1)\n",
    "y=df_Pumpkin_Seeds['Class']"
   ]
  },
  {
   "cell_type": "code",
   "execution_count": 48,
   "id": "7ac1ea8d",
   "metadata": {},
   "outputs": [
    {
     "data": {
      "text/plain": [
       "Çerçevelik       1300\n",
       "Ürgüp Sivrisi    1200\n",
       "Name: Class, dtype: int64"
      ]
     },
     "execution_count": 48,
     "metadata": {},
     "output_type": "execute_result"
    }
   ],
   "source": [
    "y.value_counts()"
   ]
  },
  {
   "cell_type": "code",
   "execution_count": 49,
   "id": "e64312d1",
   "metadata": {},
   "outputs": [],
   "source": [
    "x_train ,x_test,y_train,y_test=train_test_split(x,y,test_size=0.2,random_state=2,stratify=y)"
   ]
  },
  {
   "cell_type": "code",
   "execution_count": 50,
   "id": "4afb4c5f",
   "metadata": {},
   "outputs": [
    {
     "data": {
      "text/plain": [
       "Çerçevelik       1040\n",
       "Ürgüp Sivrisi     960\n",
       "Name: Class, dtype: int64"
      ]
     },
     "execution_count": 50,
     "metadata": {},
     "output_type": "execute_result"
    }
   ],
   "source": [
    "y_train.value_counts()"
   ]
  },
  {
   "cell_type": "code",
   "execution_count": 51,
   "id": "27ff502e",
   "metadata": {},
   "outputs": [
    {
     "data": {
      "text/plain": [
       "Çerçevelik       260\n",
       "Ürgüp Sivrisi    240\n",
       "Name: Class, dtype: int64"
      ]
     },
     "execution_count": 51,
     "metadata": {},
     "output_type": "execute_result"
    }
   ],
   "source": [
    "y_test.value_counts()"
   ]
  },
  {
   "cell_type": "markdown",
   "id": "dd5efc3f",
   "metadata": {},
   "source": [
    "## Model instantiating"
   ]
  },
  {
   "cell_type": "code",
   "execution_count": 52,
   "id": "ce56b898",
   "metadata": {},
   "outputs": [
    {
     "data": {
      "text/html": [
       "<style>#sk-container-id-1 {color: black;background-color: white;}#sk-container-id-1 pre{padding: 0;}#sk-container-id-1 div.sk-toggleable {background-color: white;}#sk-container-id-1 label.sk-toggleable__label {cursor: pointer;display: block;width: 100%;margin-bottom: 0;padding: 0.3em;box-sizing: border-box;text-align: center;}#sk-container-id-1 label.sk-toggleable__label-arrow:before {content: \"▸\";float: left;margin-right: 0.25em;color: #696969;}#sk-container-id-1 label.sk-toggleable__label-arrow:hover:before {color: black;}#sk-container-id-1 div.sk-estimator:hover label.sk-toggleable__label-arrow:before {color: black;}#sk-container-id-1 div.sk-toggleable__content {max-height: 0;max-width: 0;overflow: hidden;text-align: left;background-color: #f0f8ff;}#sk-container-id-1 div.sk-toggleable__content pre {margin: 0.2em;color: black;border-radius: 0.25em;background-color: #f0f8ff;}#sk-container-id-1 input.sk-toggleable__control:checked~div.sk-toggleable__content {max-height: 200px;max-width: 100%;overflow: auto;}#sk-container-id-1 input.sk-toggleable__control:checked~label.sk-toggleable__label-arrow:before {content: \"▾\";}#sk-container-id-1 div.sk-estimator input.sk-toggleable__control:checked~label.sk-toggleable__label {background-color: #d4ebff;}#sk-container-id-1 div.sk-label input.sk-toggleable__control:checked~label.sk-toggleable__label {background-color: #d4ebff;}#sk-container-id-1 input.sk-hidden--visually {border: 0;clip: rect(1px 1px 1px 1px);clip: rect(1px, 1px, 1px, 1px);height: 1px;margin: -1px;overflow: hidden;padding: 0;position: absolute;width: 1px;}#sk-container-id-1 div.sk-estimator {font-family: monospace;background-color: #f0f8ff;border: 1px dotted black;border-radius: 0.25em;box-sizing: border-box;margin-bottom: 0.5em;}#sk-container-id-1 div.sk-estimator:hover {background-color: #d4ebff;}#sk-container-id-1 div.sk-parallel-item::after {content: \"\";width: 100%;border-bottom: 1px solid gray;flex-grow: 1;}#sk-container-id-1 div.sk-label:hover label.sk-toggleable__label {background-color: #d4ebff;}#sk-container-id-1 div.sk-serial::before {content: \"\";position: absolute;border-left: 1px solid gray;box-sizing: border-box;top: 0;bottom: 0;left: 50%;z-index: 0;}#sk-container-id-1 div.sk-serial {display: flex;flex-direction: column;align-items: center;background-color: white;padding-right: 0.2em;padding-left: 0.2em;position: relative;}#sk-container-id-1 div.sk-item {position: relative;z-index: 1;}#sk-container-id-1 div.sk-parallel {display: flex;align-items: stretch;justify-content: center;background-color: white;position: relative;}#sk-container-id-1 div.sk-item::before, #sk-container-id-1 div.sk-parallel-item::before {content: \"\";position: absolute;border-left: 1px solid gray;box-sizing: border-box;top: 0;bottom: 0;left: 50%;z-index: -1;}#sk-container-id-1 div.sk-parallel-item {display: flex;flex-direction: column;z-index: 1;position: relative;background-color: white;}#sk-container-id-1 div.sk-parallel-item:first-child::after {align-self: flex-end;width: 50%;}#sk-container-id-1 div.sk-parallel-item:last-child::after {align-self: flex-start;width: 50%;}#sk-container-id-1 div.sk-parallel-item:only-child::after {width: 0;}#sk-container-id-1 div.sk-dashed-wrapped {border: 1px dashed gray;margin: 0 0.4em 0.5em 0.4em;box-sizing: border-box;padding-bottom: 0.4em;background-color: white;}#sk-container-id-1 div.sk-label label {font-family: monospace;font-weight: bold;display: inline-block;line-height: 1.2em;}#sk-container-id-1 div.sk-label-container {text-align: center;}#sk-container-id-1 div.sk-container {/* jupyter's `normalize.less` sets `[hidden] { display: none; }` but bootstrap.min.css set `[hidden] { display: none !important; }` so we also need the `!important` here to be able to override the default hidden behavior on the sphinx rendered scikit-learn.org. See: https://github.com/scikit-learn/scikit-learn/issues/21755 */display: inline-block !important;position: relative;}#sk-container-id-1 div.sk-text-repr-fallback {display: none;}</style><div id=\"sk-container-id-1\" class=\"sk-top-container\"><div class=\"sk-text-repr-fallback\"><pre>LogisticRegression()</pre><b>In a Jupyter environment, please rerun this cell to show the HTML representation or trust the notebook. <br />On GitHub, the HTML representation is unable to render, please try loading this page with nbviewer.org.</b></div><div class=\"sk-container\" hidden><div class=\"sk-item\"><div class=\"sk-estimator sk-toggleable\"><input class=\"sk-toggleable__control sk-hidden--visually\" id=\"sk-estimator-id-1\" type=\"checkbox\" checked><label for=\"sk-estimator-id-1\" class=\"sk-toggleable__label sk-toggleable__label-arrow\">LogisticRegression</label><div class=\"sk-toggleable__content\"><pre>LogisticRegression()</pre></div></div></div></div></div>"
      ],
      "text/plain": [
       "LogisticRegression()"
      ]
     },
     "execution_count": 52,
     "metadata": {},
     "output_type": "execute_result"
    }
   ],
   "source": [
    "log_clf = LogisticRegression()\n",
    "log_clf.fit(x_train, y_train)"
   ]
  },
  {
   "cell_type": "markdown",
   "id": "757f07f9",
   "metadata": {},
   "source": [
    "## Evaluation"
   ]
  },
  {
   "cell_type": "code",
   "execution_count": 53,
   "id": "4f1ce7ee",
   "metadata": {},
   "outputs": [
    {
     "name": "stdout",
     "output_type": "stream",
     "text": [
      "******************Testing Data Evaluation*******************\n",
      "Accuracy Score: 0.876\n",
      "****************************************\n",
      "Confision Matrix: \n",
      " [[237  23]\n",
      " [ 39 201]]\n",
      "****************************************\n",
      "Classification Report :\n",
      "                precision    recall  f1-score   support\n",
      "\n",
      "   Çerçevelik       0.86      0.91      0.88       260\n",
      "Ürgüp Sivrisi       0.90      0.84      0.87       240\n",
      "\n",
      "     accuracy                           0.88       500\n",
      "    macro avg       0.88      0.87      0.88       500\n",
      " weighted avg       0.88      0.88      0.88       500\n",
      "\n"
     ]
    }
   ],
   "source": [
    "def evaluate_model(model, ind_var, act):\n",
    "    pred = model.predict(ind_var)\n",
    "    \n",
    "    acc_score = accuracy_score(act,pred)\n",
    "    print('Accuracy Score:', acc_score)\n",
    "    print('**'*20)\n",
    "    \n",
    "    cnf_matrix = confusion_matrix(act, pred)\n",
    "    print('Confision Matrix: \\n', cnf_matrix)\n",
    "    print('**'*20)\n",
    "    \n",
    "    clf_report = classification_report(act, pred)\n",
    "    print('Classification Report :\\n', clf_report)\n",
    "    \n",
    "    return pred\n",
    "    \n",
    "print('Testing Data Evaluation'.center(60, '*'))   \n",
    "y_pred = evaluate_model(log_clf, x_test, y_test)"
   ]
  },
  {
   "cell_type": "code",
   "execution_count": 54,
   "id": "5df94bd8",
   "metadata": {},
   "outputs": [
    {
     "name": "stdout",
     "output_type": "stream",
     "text": [
      "******************Training Data Evaluation******************\n",
      "Accuracy Score: 0.857\n",
      "****************************************\n",
      "Confision Matrix: \n",
      " [[919 121]\n",
      " [165 795]]\n",
      "****************************************\n",
      "Classification Report :\n",
      "                precision    recall  f1-score   support\n",
      "\n",
      "   Çerçevelik       0.85      0.88      0.87      1040\n",
      "Ürgüp Sivrisi       0.87      0.83      0.85       960\n",
      "\n",
      "     accuracy                           0.86      2000\n",
      "    macro avg       0.86      0.86      0.86      2000\n",
      " weighted avg       0.86      0.86      0.86      2000\n",
      "\n"
     ]
    }
   ],
   "source": [
    "print('Training Data Evaluation'.center(60, '*'))   \n",
    "y_pred = evaluate_model(log_clf, x_train, y_train)"
   ]
  },
  {
   "cell_type": "code",
   "execution_count": 55,
   "id": "d47c22a0",
   "metadata": {},
   "outputs": [
    {
     "data": {
      "text/plain": [
       "array(['Çerçevelik', 'Ürgüp Sivrisi', 'Çerçevelik', 'Çerçevelik',\n",
       "       'Ürgüp Sivrisi', 'Ürgüp Sivrisi', 'Ürgüp Sivrisi', 'Çerçevelik',\n",
       "       'Ürgüp Sivrisi', 'Ürgüp Sivrisi'], dtype=object)"
      ]
     },
     "execution_count": 55,
     "metadata": {},
     "output_type": "execute_result"
    }
   ],
   "source": [
    "y_pred[:10]"
   ]
  },
  {
   "cell_type": "code",
   "execution_count": 56,
   "id": "8eb7c1dd",
   "metadata": {},
   "outputs": [],
   "source": [
    "import pickle\n",
    "import json"
   ]
  },
  {
   "cell_type": "code",
   "execution_count": 57,
   "id": "fe328b03",
   "metadata": {},
   "outputs": [],
   "source": [
    "with open('Logistic_model.pkl', 'wb') as f:\n",
    "    pickle.dump(log_clf, f)"
   ]
  },
  {
   "cell_type": "code",
   "execution_count": null,
   "id": "027b2282",
   "metadata": {},
   "outputs": [],
   "source": []
  }
 ],
 "metadata": {
  "kernelspec": {
   "display_name": "Python 3 (ipykernel)",
   "language": "python",
   "name": "python3"
  },
  "language_info": {
   "codemirror_mode": {
    "name": "ipython",
    "version": 3
   },
   "file_extension": ".py",
   "mimetype": "text/x-python",
   "name": "python",
   "nbconvert_exporter": "python",
   "pygments_lexer": "ipython3",
   "version": "3.10.5"
  }
 },
 "nbformat": 4,
 "nbformat_minor": 5
}
