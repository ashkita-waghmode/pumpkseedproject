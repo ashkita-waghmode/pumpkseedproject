{
 "cells": [
  {
   "cell_type": "code",
   "execution_count": 67,
   "id": "9ba47060",
   "metadata": {},
   "outputs": [],
   "source": [
    "import numpy as np\n",
    "import pandas as pd\n",
    "\n",
    "import matplotlib.pyplot as plt\n",
    "import seaborn as sns\n",
    "import plotly.express as px\n",
    "\n",
    "from sklearn.model_selection import train_test_split\n",
    "from sklearn.linear_model import LogisticRegression\n",
    "\n",
    "from sklearn.metrics import confusion_matrix,confusion_matrix, classification_report, multilabel_confusion_matrix\n",
    "from sklearn.metrics import precision_score, recall_score, f1_score, accuracy_score\n",
    "from sklearn.metrics import roc_auc_score, roc_curve, precision_recall_curve\n",
    "\n",
    "import warnings\n",
    "warnings.filterwarnings('ignore')"
   ]
  },
  {
   "cell_type": "markdown",
   "id": "a08cae8e",
   "metadata": {},
   "source": [
    "### 1. Problem Statement"
   ]
  },
  {
   "cell_type": "code",
   "execution_count": 2,
   "id": "810cf242",
   "metadata": {},
   "outputs": [],
   "source": [
    "# To classify the classes of pumkin seed\n",
    "# Target variable :\n",
    "# Class\n",
    "\n",
    "# Inependent Variables :  \n",
    "# Area\n",
    "# Perimeter\n",
    "# Major_Axis_Length\n",
    "# Minor_Axis_Length\n",
    "# Convex_Area\n",
    "# Equiv_Diameter\n",
    "# Eccentricity\n",
    "# Solidity\n",
    "# Extent\n",
    "# Roundness\n",
    "# Aspect_Ration\n",
    "# Compactness\n",
    "    "
   ]
  },
  {
   "cell_type": "markdown",
   "id": "2ee75c0b",
   "metadata": {},
   "source": [
    "### 2.Data Gathering"
   ]
  },
  {
   "cell_type": "code",
   "execution_count": 3,
   "id": "b852da11",
   "metadata": {},
   "outputs": [
    {
     "data": {
      "text/html": [
       "<div>\n",
       "<style scoped>\n",
       "    .dataframe tbody tr th:only-of-type {\n",
       "        vertical-align: middle;\n",
       "    }\n",
       "\n",
       "    .dataframe tbody tr th {\n",
       "        vertical-align: top;\n",
       "    }\n",
       "\n",
       "    .dataframe thead th {\n",
       "        text-align: right;\n",
       "    }\n",
       "</style>\n",
       "<table border=\"1\" class=\"dataframe\">\n",
       "  <thead>\n",
       "    <tr style=\"text-align: right;\">\n",
       "      <th></th>\n",
       "      <th>Area</th>\n",
       "      <th>Perimeter</th>\n",
       "      <th>Major_Axis_Length</th>\n",
       "      <th>Minor_Axis_Length</th>\n",
       "      <th>Convex_Area</th>\n",
       "      <th>Equiv_Diameter</th>\n",
       "      <th>Eccentricity</th>\n",
       "      <th>Solidity</th>\n",
       "      <th>Extent</th>\n",
       "      <th>Roundness</th>\n",
       "      <th>Aspect_Ration</th>\n",
       "      <th>Compactness</th>\n",
       "      <th>Class</th>\n",
       "    </tr>\n",
       "  </thead>\n",
       "  <tbody>\n",
       "    <tr>\n",
       "      <th>0</th>\n",
       "      <td>56276</td>\n",
       "      <td>888.242</td>\n",
       "      <td>326.1485</td>\n",
       "      <td>220.2388</td>\n",
       "      <td>56831</td>\n",
       "      <td>267.6805</td>\n",
       "      <td>0.7376</td>\n",
       "      <td>0.9902</td>\n",
       "      <td>0.7453</td>\n",
       "      <td>0.8963</td>\n",
       "      <td>1.4809</td>\n",
       "      <td>0.8207</td>\n",
       "      <td>Çerçevelik</td>\n",
       "    </tr>\n",
       "    <tr>\n",
       "      <th>1</th>\n",
       "      <td>76631</td>\n",
       "      <td>1068.146</td>\n",
       "      <td>417.1932</td>\n",
       "      <td>234.2289</td>\n",
       "      <td>77280</td>\n",
       "      <td>312.3614</td>\n",
       "      <td>0.8275</td>\n",
       "      <td>0.9916</td>\n",
       "      <td>0.7151</td>\n",
       "      <td>0.8440</td>\n",
       "      <td>1.7811</td>\n",
       "      <td>0.7487</td>\n",
       "      <td>Çerçevelik</td>\n",
       "    </tr>\n",
       "    <tr>\n",
       "      <th>2</th>\n",
       "      <td>71623</td>\n",
       "      <td>1082.987</td>\n",
       "      <td>435.8328</td>\n",
       "      <td>211.0457</td>\n",
       "      <td>72663</td>\n",
       "      <td>301.9822</td>\n",
       "      <td>0.8749</td>\n",
       "      <td>0.9857</td>\n",
       "      <td>0.7400</td>\n",
       "      <td>0.7674</td>\n",
       "      <td>2.0651</td>\n",
       "      <td>0.6929</td>\n",
       "      <td>Çerçevelik</td>\n",
       "    </tr>\n",
       "    <tr>\n",
       "      <th>3</th>\n",
       "      <td>66458</td>\n",
       "      <td>992.051</td>\n",
       "      <td>381.5638</td>\n",
       "      <td>222.5322</td>\n",
       "      <td>67118</td>\n",
       "      <td>290.8899</td>\n",
       "      <td>0.8123</td>\n",
       "      <td>0.9902</td>\n",
       "      <td>0.7396</td>\n",
       "      <td>0.8486</td>\n",
       "      <td>1.7146</td>\n",
       "      <td>0.7624</td>\n",
       "      <td>Çerçevelik</td>\n",
       "    </tr>\n",
       "    <tr>\n",
       "      <th>4</th>\n",
       "      <td>66107</td>\n",
       "      <td>998.146</td>\n",
       "      <td>383.8883</td>\n",
       "      <td>220.4545</td>\n",
       "      <td>67117</td>\n",
       "      <td>290.1207</td>\n",
       "      <td>0.8187</td>\n",
       "      <td>0.9850</td>\n",
       "      <td>0.6752</td>\n",
       "      <td>0.8338</td>\n",
       "      <td>1.7413</td>\n",
       "      <td>0.7557</td>\n",
       "      <td>Çerçevelik</td>\n",
       "    </tr>\n",
       "    <tr>\n",
       "      <th>...</th>\n",
       "      <td>...</td>\n",
       "      <td>...</td>\n",
       "      <td>...</td>\n",
       "      <td>...</td>\n",
       "      <td>...</td>\n",
       "      <td>...</td>\n",
       "      <td>...</td>\n",
       "      <td>...</td>\n",
       "      <td>...</td>\n",
       "      <td>...</td>\n",
       "      <td>...</td>\n",
       "      <td>...</td>\n",
       "      <td>...</td>\n",
       "    </tr>\n",
       "    <tr>\n",
       "      <th>2495</th>\n",
       "      <td>79637</td>\n",
       "      <td>1224.710</td>\n",
       "      <td>533.1513</td>\n",
       "      <td>190.4367</td>\n",
       "      <td>80381</td>\n",
       "      <td>318.4289</td>\n",
       "      <td>0.9340</td>\n",
       "      <td>0.9907</td>\n",
       "      <td>0.4888</td>\n",
       "      <td>0.6672</td>\n",
       "      <td>2.7996</td>\n",
       "      <td>0.5973</td>\n",
       "      <td>Ürgüp Sivrisi</td>\n",
       "    </tr>\n",
       "    <tr>\n",
       "      <th>2496</th>\n",
       "      <td>69647</td>\n",
       "      <td>1084.318</td>\n",
       "      <td>462.9416</td>\n",
       "      <td>191.8210</td>\n",
       "      <td>70216</td>\n",
       "      <td>297.7874</td>\n",
       "      <td>0.9101</td>\n",
       "      <td>0.9919</td>\n",
       "      <td>0.6002</td>\n",
       "      <td>0.7444</td>\n",
       "      <td>2.4134</td>\n",
       "      <td>0.6433</td>\n",
       "      <td>Ürgüp Sivrisi</td>\n",
       "    </tr>\n",
       "    <tr>\n",
       "      <th>2497</th>\n",
       "      <td>87994</td>\n",
       "      <td>1210.314</td>\n",
       "      <td>507.2200</td>\n",
       "      <td>222.1872</td>\n",
       "      <td>88702</td>\n",
       "      <td>334.7199</td>\n",
       "      <td>0.8990</td>\n",
       "      <td>0.9920</td>\n",
       "      <td>0.7643</td>\n",
       "      <td>0.7549</td>\n",
       "      <td>2.2828</td>\n",
       "      <td>0.6599</td>\n",
       "      <td>Ürgüp Sivrisi</td>\n",
       "    </tr>\n",
       "    <tr>\n",
       "      <th>2498</th>\n",
       "      <td>80011</td>\n",
       "      <td>1182.947</td>\n",
       "      <td>501.9065</td>\n",
       "      <td>204.7531</td>\n",
       "      <td>80902</td>\n",
       "      <td>319.1758</td>\n",
       "      <td>0.9130</td>\n",
       "      <td>0.9890</td>\n",
       "      <td>0.7374</td>\n",
       "      <td>0.7185</td>\n",
       "      <td>2.4513</td>\n",
       "      <td>0.6359</td>\n",
       "      <td>Ürgüp Sivrisi</td>\n",
       "    </tr>\n",
       "    <tr>\n",
       "      <th>2499</th>\n",
       "      <td>84934</td>\n",
       "      <td>1159.933</td>\n",
       "      <td>462.8951</td>\n",
       "      <td>234.5597</td>\n",
       "      <td>85781</td>\n",
       "      <td>328.8485</td>\n",
       "      <td>0.8621</td>\n",
       "      <td>0.9901</td>\n",
       "      <td>0.7360</td>\n",
       "      <td>0.7933</td>\n",
       "      <td>1.9735</td>\n",
       "      <td>0.7104</td>\n",
       "      <td>Ürgüp Sivrisi</td>\n",
       "    </tr>\n",
       "  </tbody>\n",
       "</table>\n",
       "<p>2500 rows × 13 columns</p>\n",
       "</div>"
      ],
      "text/plain": [
       "       Area  Perimeter  Major_Axis_Length  Minor_Axis_Length  Convex_Area  \\\n",
       "0     56276    888.242           326.1485           220.2388        56831   \n",
       "1     76631   1068.146           417.1932           234.2289        77280   \n",
       "2     71623   1082.987           435.8328           211.0457        72663   \n",
       "3     66458    992.051           381.5638           222.5322        67118   \n",
       "4     66107    998.146           383.8883           220.4545        67117   \n",
       "...     ...        ...                ...                ...          ...   \n",
       "2495  79637   1224.710           533.1513           190.4367        80381   \n",
       "2496  69647   1084.318           462.9416           191.8210        70216   \n",
       "2497  87994   1210.314           507.2200           222.1872        88702   \n",
       "2498  80011   1182.947           501.9065           204.7531        80902   \n",
       "2499  84934   1159.933           462.8951           234.5597        85781   \n",
       "\n",
       "      Equiv_Diameter  Eccentricity  Solidity  Extent  Roundness  \\\n",
       "0           267.6805        0.7376    0.9902  0.7453     0.8963   \n",
       "1           312.3614        0.8275    0.9916  0.7151     0.8440   \n",
       "2           301.9822        0.8749    0.9857  0.7400     0.7674   \n",
       "3           290.8899        0.8123    0.9902  0.7396     0.8486   \n",
       "4           290.1207        0.8187    0.9850  0.6752     0.8338   \n",
       "...              ...           ...       ...     ...        ...   \n",
       "2495        318.4289        0.9340    0.9907  0.4888     0.6672   \n",
       "2496        297.7874        0.9101    0.9919  0.6002     0.7444   \n",
       "2497        334.7199        0.8990    0.9920  0.7643     0.7549   \n",
       "2498        319.1758        0.9130    0.9890  0.7374     0.7185   \n",
       "2499        328.8485        0.8621    0.9901  0.7360     0.7933   \n",
       "\n",
       "      Aspect_Ration  Compactness          Class  \n",
       "0            1.4809       0.8207     Çerçevelik  \n",
       "1            1.7811       0.7487     Çerçevelik  \n",
       "2            2.0651       0.6929     Çerçevelik  \n",
       "3            1.7146       0.7624     Çerçevelik  \n",
       "4            1.7413       0.7557     Çerçevelik  \n",
       "...             ...          ...            ...  \n",
       "2495         2.7996       0.5973  Ürgüp Sivrisi  \n",
       "2496         2.4134       0.6433  Ürgüp Sivrisi  \n",
       "2497         2.2828       0.6599  Ürgüp Sivrisi  \n",
       "2498         2.4513       0.6359  Ürgüp Sivrisi  \n",
       "2499         1.9735       0.7104  Ürgüp Sivrisi  \n",
       "\n",
       "[2500 rows x 13 columns]"
      ]
     },
     "execution_count": 3,
     "metadata": {},
     "output_type": "execute_result"
    }
   ],
   "source": [
    "seed_df = pd.read_excel('Pumpkin_Seeds_Dataset.xlsx')\n",
    "seed_df"
   ]
  },
  {
   "cell_type": "code",
   "execution_count": 4,
   "id": "d78b6d75",
   "metadata": {},
   "outputs": [
    {
     "name": "stdout",
     "output_type": "stream",
     "text": [
      "<class 'pandas.core.frame.DataFrame'>\n",
      "RangeIndex: 2500 entries, 0 to 2499\n",
      "Data columns (total 13 columns):\n",
      " #   Column             Non-Null Count  Dtype  \n",
      "---  ------             --------------  -----  \n",
      " 0   Area               2500 non-null   int64  \n",
      " 1   Perimeter          2500 non-null   float64\n",
      " 2   Major_Axis_Length  2500 non-null   float64\n",
      " 3   Minor_Axis_Length  2500 non-null   float64\n",
      " 4   Convex_Area        2500 non-null   int64  \n",
      " 5   Equiv_Diameter     2500 non-null   float64\n",
      " 6   Eccentricity       2500 non-null   float64\n",
      " 7   Solidity           2500 non-null   float64\n",
      " 8   Extent             2500 non-null   float64\n",
      " 9   Roundness          2500 non-null   float64\n",
      " 10  Aspect_Ration      2500 non-null   float64\n",
      " 11  Compactness        2500 non-null   float64\n",
      " 12  Class              2500 non-null   object \n",
      "dtypes: float64(10), int64(2), object(1)\n",
      "memory usage: 254.0+ KB\n"
     ]
    }
   ],
   "source": [
    "seed_df.info()"
   ]
  },
  {
   "cell_type": "code",
   "execution_count": 5,
   "id": "9e56f5b3",
   "metadata": {
    "scrolled": true
   },
   "outputs": [
    {
     "data": {
      "text/html": [
       "<div>\n",
       "<style scoped>\n",
       "    .dataframe tbody tr th:only-of-type {\n",
       "        vertical-align: middle;\n",
       "    }\n",
       "\n",
       "    .dataframe tbody tr th {\n",
       "        vertical-align: top;\n",
       "    }\n",
       "\n",
       "    .dataframe thead th {\n",
       "        text-align: right;\n",
       "    }\n",
       "</style>\n",
       "<table border=\"1\" class=\"dataframe\">\n",
       "  <thead>\n",
       "    <tr style=\"text-align: right;\">\n",
       "      <th></th>\n",
       "      <th>Area</th>\n",
       "      <th>Perimeter</th>\n",
       "      <th>Major_Axis_Length</th>\n",
       "      <th>Minor_Axis_Length</th>\n",
       "      <th>Convex_Area</th>\n",
       "      <th>Equiv_Diameter</th>\n",
       "      <th>Eccentricity</th>\n",
       "      <th>Solidity</th>\n",
       "      <th>Extent</th>\n",
       "      <th>Roundness</th>\n",
       "      <th>Aspect_Ration</th>\n",
       "      <th>Compactness</th>\n",
       "    </tr>\n",
       "  </thead>\n",
       "  <tbody>\n",
       "    <tr>\n",
       "      <th>count</th>\n",
       "      <td>2500.000000</td>\n",
       "      <td>2500.000000</td>\n",
       "      <td>2500.000000</td>\n",
       "      <td>2500.000000</td>\n",
       "      <td>2500.000000</td>\n",
       "      <td>2500.000000</td>\n",
       "      <td>2500.000000</td>\n",
       "      <td>2500.000000</td>\n",
       "      <td>2500.000000</td>\n",
       "      <td>2500.000000</td>\n",
       "      <td>2500.000000</td>\n",
       "      <td>2500.000000</td>\n",
       "    </tr>\n",
       "    <tr>\n",
       "      <th>mean</th>\n",
       "      <td>80658.220800</td>\n",
       "      <td>1130.279015</td>\n",
       "      <td>456.601840</td>\n",
       "      <td>225.794921</td>\n",
       "      <td>81508.084400</td>\n",
       "      <td>319.334230</td>\n",
       "      <td>0.860879</td>\n",
       "      <td>0.989492</td>\n",
       "      <td>0.693205</td>\n",
       "      <td>0.791533</td>\n",
       "      <td>2.041702</td>\n",
       "      <td>0.704121</td>\n",
       "    </tr>\n",
       "    <tr>\n",
       "      <th>std</th>\n",
       "      <td>13664.510228</td>\n",
       "      <td>109.256418</td>\n",
       "      <td>56.235704</td>\n",
       "      <td>23.297245</td>\n",
       "      <td>13764.092788</td>\n",
       "      <td>26.891920</td>\n",
       "      <td>0.045167</td>\n",
       "      <td>0.003494</td>\n",
       "      <td>0.060914</td>\n",
       "      <td>0.055924</td>\n",
       "      <td>0.315997</td>\n",
       "      <td>0.053067</td>\n",
       "    </tr>\n",
       "    <tr>\n",
       "      <th>min</th>\n",
       "      <td>47939.000000</td>\n",
       "      <td>868.485000</td>\n",
       "      <td>320.844600</td>\n",
       "      <td>152.171800</td>\n",
       "      <td>48366.000000</td>\n",
       "      <td>247.058400</td>\n",
       "      <td>0.492100</td>\n",
       "      <td>0.918600</td>\n",
       "      <td>0.468000</td>\n",
       "      <td>0.554600</td>\n",
       "      <td>1.148700</td>\n",
       "      <td>0.560800</td>\n",
       "    </tr>\n",
       "    <tr>\n",
       "      <th>25%</th>\n",
       "      <td>70765.000000</td>\n",
       "      <td>1048.829750</td>\n",
       "      <td>414.957850</td>\n",
       "      <td>211.245925</td>\n",
       "      <td>71512.000000</td>\n",
       "      <td>300.167975</td>\n",
       "      <td>0.831700</td>\n",
       "      <td>0.988300</td>\n",
       "      <td>0.658900</td>\n",
       "      <td>0.751900</td>\n",
       "      <td>1.801050</td>\n",
       "      <td>0.663475</td>\n",
       "    </tr>\n",
       "    <tr>\n",
       "      <th>50%</th>\n",
       "      <td>79076.000000</td>\n",
       "      <td>1123.672000</td>\n",
       "      <td>449.496600</td>\n",
       "      <td>224.703100</td>\n",
       "      <td>79872.000000</td>\n",
       "      <td>317.305350</td>\n",
       "      <td>0.863700</td>\n",
       "      <td>0.990300</td>\n",
       "      <td>0.713050</td>\n",
       "      <td>0.797750</td>\n",
       "      <td>1.984200</td>\n",
       "      <td>0.707700</td>\n",
       "    </tr>\n",
       "    <tr>\n",
       "      <th>75%</th>\n",
       "      <td>89757.500000</td>\n",
       "      <td>1203.340500</td>\n",
       "      <td>492.737650</td>\n",
       "      <td>240.672875</td>\n",
       "      <td>90797.750000</td>\n",
       "      <td>338.057375</td>\n",
       "      <td>0.897025</td>\n",
       "      <td>0.991500</td>\n",
       "      <td>0.740225</td>\n",
       "      <td>0.834325</td>\n",
       "      <td>2.262075</td>\n",
       "      <td>0.743500</td>\n",
       "    </tr>\n",
       "    <tr>\n",
       "      <th>max</th>\n",
       "      <td>136574.000000</td>\n",
       "      <td>1559.450000</td>\n",
       "      <td>661.911300</td>\n",
       "      <td>305.818000</td>\n",
       "      <td>138384.000000</td>\n",
       "      <td>417.002900</td>\n",
       "      <td>0.948100</td>\n",
       "      <td>0.994400</td>\n",
       "      <td>0.829600</td>\n",
       "      <td>0.939600</td>\n",
       "      <td>3.144400</td>\n",
       "      <td>0.904900</td>\n",
       "    </tr>\n",
       "  </tbody>\n",
       "</table>\n",
       "</div>"
      ],
      "text/plain": [
       "                Area    Perimeter  Major_Axis_Length  Minor_Axis_Length  \\\n",
       "count    2500.000000  2500.000000        2500.000000        2500.000000   \n",
       "mean    80658.220800  1130.279015         456.601840         225.794921   \n",
       "std     13664.510228   109.256418          56.235704          23.297245   \n",
       "min     47939.000000   868.485000         320.844600         152.171800   \n",
       "25%     70765.000000  1048.829750         414.957850         211.245925   \n",
       "50%     79076.000000  1123.672000         449.496600         224.703100   \n",
       "75%     89757.500000  1203.340500         492.737650         240.672875   \n",
       "max    136574.000000  1559.450000         661.911300         305.818000   \n",
       "\n",
       "         Convex_Area  Equiv_Diameter  Eccentricity     Solidity       Extent  \\\n",
       "count    2500.000000     2500.000000   2500.000000  2500.000000  2500.000000   \n",
       "mean    81508.084400      319.334230      0.860879     0.989492     0.693205   \n",
       "std     13764.092788       26.891920      0.045167     0.003494     0.060914   \n",
       "min     48366.000000      247.058400      0.492100     0.918600     0.468000   \n",
       "25%     71512.000000      300.167975      0.831700     0.988300     0.658900   \n",
       "50%     79872.000000      317.305350      0.863700     0.990300     0.713050   \n",
       "75%     90797.750000      338.057375      0.897025     0.991500     0.740225   \n",
       "max    138384.000000      417.002900      0.948100     0.994400     0.829600   \n",
       "\n",
       "         Roundness  Aspect_Ration  Compactness  \n",
       "count  2500.000000    2500.000000  2500.000000  \n",
       "mean      0.791533       2.041702     0.704121  \n",
       "std       0.055924       0.315997     0.053067  \n",
       "min       0.554600       1.148700     0.560800  \n",
       "25%       0.751900       1.801050     0.663475  \n",
       "50%       0.797750       1.984200     0.707700  \n",
       "75%       0.834325       2.262075     0.743500  \n",
       "max       0.939600       3.144400     0.904900  "
      ]
     },
     "execution_count": 5,
     "metadata": {},
     "output_type": "execute_result"
    }
   ],
   "source": [
    "seed_df.describe()"
   ]
  },
  {
   "cell_type": "code",
   "execution_count": null,
   "id": "2d011453",
   "metadata": {},
   "outputs": [],
   "source": []
  },
  {
   "cell_type": "markdown",
   "id": "24bfb919",
   "metadata": {},
   "source": [
    "### 3.EDA"
   ]
  },
  {
   "cell_type": "markdown",
   "id": "7fd7acff",
   "metadata": {},
   "source": [
    "#### 3.1 Area"
   ]
  },
  {
   "cell_type": "code",
   "execution_count": 6,
   "id": "12b4b376",
   "metadata": {},
   "outputs": [
    {
     "data": {
      "text/plain": [
       "<AxesSubplot: xlabel='Area'>"
      ]
     },
     "execution_count": 6,
     "metadata": {},
     "output_type": "execute_result"
    },
    {
     "data": {
      "image/png": "[encoded data removed]",
      "text/plain": [
       "<Figure size 640x480 with 1 Axes>"
      ]
     },
     "metadata": {},
     "output_type": "display_data"
    }
   ],
   "source": [
    "sns.boxplot(x =seed_df['Area'])"
   ]
  },
  {
   "cell_type": "code",
   "execution_count": 7,
   "id": "57cc0db9",
   "metadata": {},
   "outputs": [],
   "source": [
    "seed_df['Area'] = np.where(seed_df['Area'] > 117000 , seed_df['Area'].median(),seed_df['Area'])"
   ]
  },
  {
   "cell_type": "code",
   "execution_count": 8,
   "id": "38a0c596",
   "metadata": {},
   "outputs": [
    {
     "data": {
      "text/plain": [
       "<AxesSubplot: xlabel='Area'>"
      ]
     },
     "execution_count": 8,
     "metadata": {},
     "output_type": "execute_result"
    },
    {
     "data": {
      "image/png": "[encoded data removed]",
      "text/plain": [
       "<Figure size 640x480 with 1 Axes>"
      ]
     },
     "metadata": {},
     "output_type": "display_data"
    }
   ],
   "source": [
    "sns.boxplot(x =seed_df['Area'])"
   ]
  },
  {
   "cell_type": "markdown",
   "id": "1845ad3e",
   "metadata": {},
   "source": [
    "#### 3.2 Perimeter"
   ]
  },
  {
   "cell_type": "code",
   "execution_count": 9,
   "id": "93a64ffb",
   "metadata": {},
   "outputs": [
    {
     "data": {
      "text/plain": [
       "<AxesSubplot: xlabel='Perimeter'>"
      ]
     },
     "execution_count": 9,
     "metadata": {},
     "output_type": "execute_result"
    },
    {
     "data": {
      "image/png": "[encoded data removed]",
      "text/plain": [
       "<Figure size 640x480 with 1 Axes>"
      ]
     },
     "metadata": {},
     "output_type": "display_data"
    }
   ],
   "source": [
    "sns.boxplot(x= seed_df['Perimeter'])"
   ]
  },
  {
   "cell_type": "code",
   "execution_count": 10,
   "id": "a68dbb77",
   "metadata": {},
   "outputs": [],
   "source": [
    "seed_df['Perimeter'] = np.where(seed_df['Perimeter'] > 1430,seed_df['Perimeter'].median(), seed_df['Perimeter'])"
   ]
  },
  {
   "cell_type": "code",
   "execution_count": 11,
   "id": "88091842",
   "metadata": {},
   "outputs": [
    {
     "data": {
      "text/plain": [
       "<AxesSubplot: xlabel='Perimeter'>"
      ]
     },
     "execution_count": 11,
     "metadata": {},
     "output_type": "execute_result"
    },
    {
     "data": {
      "image/png": "[encoded data removed]",
      "text/plain": [
       "<Figure size 640x480 with 1 Axes>"
      ]
     },
     "metadata": {},
     "output_type": "display_data"
    }
   ],
   "source": [
    "sns.boxplot(x =seed_df['Perimeter'])"
   ]
  },
  {
   "cell_type": "code",
   "execution_count": 12,
   "id": "4969a8e0",
   "metadata": {},
   "outputs": [
    {
     "data": {
      "text/plain": [
       "<AxesSubplot: xlabel='Perimeter', ylabel='Density'>"
      ]
     },
     "execution_count": 12,
     "metadata": {},
     "output_type": "execute_result"
    },
    {
     "data": {
      "image/png": "[encoded data removed]",
      "text/plain": [
       "<Figure size 640x480 with 1 Axes>"
      ]
     },
     "metadata": {},
     "output_type": "display_data"
    }
   ],
   "source": [
    "sns.kdeplot(seed_df['Perimeter'])"
   ]
  },
  {
   "cell_type": "markdown",
   "id": "119d61df",
   "metadata": {},
   "source": [
    "#### 3.3 Major_Axis_Length"
   ]
  },
  {
   "cell_type": "code",
   "execution_count": 13,
   "id": "5a747008",
   "metadata": {},
   "outputs": [
    {
     "data": {
      "text/plain": [
       "<AxesSubplot: xlabel='Major_Axis_Length'>"
      ]
     },
     "execution_count": 13,
     "metadata": {},
     "output_type": "execute_result"
    },
    {
     "data": {
      "image/png": "[encoded data removed]",
      "text/plain": [
       "<Figure size 640x480 with 1 Axes>"
      ]
     },
     "metadata": {},
     "output_type": "display_data"
    }
   ],
   "source": [
    "sns.boxplot(x =seed_df['Major_Axis_Length'])"
   ]
  },
  {
   "cell_type": "code",
   "execution_count": 14,
   "id": "4bbb18bb",
   "metadata": {},
   "outputs": [],
   "source": [
    "seed_df['Major_Axis_Length'] = np.where(seed_df['Major_Axis_Length'] > 610 , seed_df['Major_Axis_Length'].median(),seed_df['Major_Axis_Length'])"
   ]
  },
  {
   "cell_type": "code",
   "execution_count": 15,
   "id": "9bc5fba2",
   "metadata": {},
   "outputs": [
    {
     "data": {
      "text/plain": [
       "<AxesSubplot: xlabel='Major_Axis_Length'>"
      ]
     },
     "execution_count": 15,
     "metadata": {},
     "output_type": "execute_result"
    },
    {
     "data": {
      "image/png": "[encoded data removed]",
      "text/plain": [
       "<Figure size 640x480 with 1 Axes>"
      ]
     },
     "metadata": {},
     "output_type": "display_data"
    }
   ],
   "source": [
    "sns.boxplot(x =seed_df['Major_Axis_Length'])"
   ]
  },
  {
   "cell_type": "markdown",
   "id": "8adaaa65",
   "metadata": {},
   "source": [
    "#### 3.4 Minor_Axis_Length"
   ]
  },
  {
   "cell_type": "code",
   "execution_count": 16,
   "id": "49df32e7",
   "metadata": {},
   "outputs": [
    {
     "data": {
      "text/plain": [
       "<AxesSubplot: xlabel='Minor_Axis_Length'>"
      ]
     },
     "execution_count": 16,
     "metadata": {},
     "output_type": "execute_result"
    },
    {
     "data": {
      "image/png": "[encoded data removed]",
      "text/plain": [
       "<Figure size 640x480 with 1 Axes>"
      ]
     },
     "metadata": {},
     "output_type": "display_data"
    }
   ],
   "source": [
    "sns.boxplot(x= seed_df['Minor_Axis_Length'])"
   ]
  },
  {
   "cell_type": "code",
   "execution_count": 17,
   "id": "3632e71a",
   "metadata": {},
   "outputs": [],
   "source": [
    "seed_df['Minor_Axis_Length'] = np.where(~seed_df['Minor_Axis_Length'].between(175,280),seed_df['Minor_Axis_Length'].median(),seed_df['Minor_Axis_Length'])"
   ]
  },
  {
   "cell_type": "code",
   "execution_count": 18,
   "id": "9d391c7b",
   "metadata": {},
   "outputs": [
    {
     "data": {
      "text/plain": [
       "<AxesSubplot: xlabel='Minor_Axis_Length'>"
      ]
     },
     "execution_count": 18,
     "metadata": {},
     "output_type": "execute_result"
    },
    {
     "data": {
      "image/png": "[encoded data removed]",
      "text/plain": [
       "<Figure size 640x480 with 1 Axes>"
      ]
     },
     "metadata": {},
     "output_type": "display_data"
    }
   ],
   "source": [
    "sns.boxplot(x= seed_df['Minor_Axis_Length'])"
   ]
  },
  {
   "cell_type": "markdown",
   "id": "2a1bdb54",
   "metadata": {},
   "source": [
    "#### 3.5 Convex_Area"
   ]
  },
  {
   "cell_type": "code",
   "execution_count": 19,
   "id": "d7ae730d",
   "metadata": {},
   "outputs": [
    {
     "data": {
      "text/plain": [
       "<AxesSubplot: xlabel='Convex_Area'>"
      ]
     },
     "execution_count": 19,
     "metadata": {},
     "output_type": "execute_result"
    },
    {
     "data": {
      "image/png": "[encoded data removed]",
      "text/plain": [
       "<Figure size 640x480 with 1 Axes>"
      ]
     },
     "metadata": {},
     "output_type": "display_data"
    }
   ],
   "source": [
    "sns.boxplot(x=seed_df['Convex_Area'])"
   ]
  },
  {
   "cell_type": "code",
   "execution_count": 20,
   "id": "597b7cff",
   "metadata": {},
   "outputs": [],
   "source": [
    "seed_df['Convex_Area'] = np.where(seed_df['Convex_Area'] > 118000,seed_df['Convex_Area'].median(),seed_df['Convex_Area'] )"
   ]
  },
  {
   "cell_type": "code",
   "execution_count": 21,
   "id": "1b3fa863",
   "metadata": {},
   "outputs": [
    {
     "data": {
      "text/plain": [
       "<AxesSubplot: xlabel='Convex_Area'>"
      ]
     },
     "execution_count": 21,
     "metadata": {},
     "output_type": "execute_result"
    },
    {
     "data": {
      "image/png": "[encoded data removed]",
      "text/plain": [
       "<Figure size 640x480 with 1 Axes>"
      ]
     },
     "metadata": {},
     "output_type": "display_data"
    }
   ],
   "source": [
    "sns.boxplot(x=seed_df['Convex_Area'])"
   ]
  },
  {
   "cell_type": "markdown",
   "id": "982bb42f",
   "metadata": {},
   "source": [
    "#### 3.6 Equiv_Diameter"
   ]
  },
  {
   "cell_type": "code",
   "execution_count": 22,
   "id": "ea5c3f75",
   "metadata": {},
   "outputs": [
    {
     "data": {
      "text/plain": [
       "<AxesSubplot: xlabel='Equiv_Diameter'>"
      ]
     },
     "execution_count": 22,
     "metadata": {},
     "output_type": "execute_result"
    },
    {
     "data": {
      "image/png": "[encoded data removed]",
      "text/plain": [
       "<Figure size 640x480 with 1 Axes>"
      ]
     },
     "metadata": {},
     "output_type": "display_data"
    }
   ],
   "source": [
    "sns.boxplot(x = seed_df['Equiv_Diameter'])"
   ]
  },
  {
   "cell_type": "code",
   "execution_count": 23,
   "id": "7aa0dfc8",
   "metadata": {},
   "outputs": [],
   "source": [
    "seed_df['Equiv_Diameter'] = np.where(seed_df['Equiv_Diameter'] > 390, seed_df['Equiv_Diameter'].median(),seed_df['Equiv_Diameter'])"
   ]
  },
  {
   "cell_type": "code",
   "execution_count": 24,
   "id": "38a1db29",
   "metadata": {},
   "outputs": [
    {
     "data": {
      "text/plain": [
       "<AxesSubplot: xlabel='Equiv_Diameter'>"
      ]
     },
     "execution_count": 24,
     "metadata": {},
     "output_type": "execute_result"
    },
    {
     "data": {
      "image/png": "[encoded data removed]",
      "text/plain": [
       "<Figure size 640x480 with 1 Axes>"
      ]
     },
     "metadata": {},
     "output_type": "display_data"
    }
   ],
   "source": [
    "sns.boxplot(x = seed_df['Equiv_Diameter'])"
   ]
  },
  {
   "cell_type": "markdown",
   "id": "38c870ad",
   "metadata": {},
   "source": [
    "#### 3.7 Eccentricity"
   ]
  },
  {
   "cell_type": "code",
   "execution_count": 25,
   "id": "8149456a",
   "metadata": {},
   "outputs": [
    {
     "data": {
      "text/plain": [
       "<AxesSubplot: xlabel='Eccentricity'>"
      ]
     },
     "execution_count": 25,
     "metadata": {},
     "output_type": "execute_result"
    },
    {
     "data": {
      "image/png": "[encoded data removed]",
      "text/plain": [
       "<Figure size 640x480 with 1 Axes>"
      ]
     },
     "metadata": {},
     "output_type": "display_data"
    }
   ],
   "source": [
    "sns.boxplot(x = seed_df['Eccentricity'])"
   ]
  },
  {
   "cell_type": "code",
   "execution_count": 26,
   "id": "dcb7ef96",
   "metadata": {},
   "outputs": [],
   "source": [
    "seed_df['Eccentricity'] = np.where(seed_df['Eccentricity'] < 0.74 ,seed_df['Eccentricity'].median(),seed_df['Eccentricity'])"
   ]
  },
  {
   "cell_type": "code",
   "execution_count": 27,
   "id": "fe1d050c",
   "metadata": {},
   "outputs": [
    {
     "data": {
      "text/plain": [
       "<AxesSubplot: xlabel='Eccentricity'>"
      ]
     },
     "execution_count": 27,
     "metadata": {},
     "output_type": "execute_result"
    },
    {
     "data": {
      "image/png": "[encoded data removed]",
      "text/plain": [
       "<Figure size 640x480 with 1 Axes>"
      ]
     },
     "metadata": {},
     "output_type": "display_data"
    }
   ],
   "source": [
    "sns.boxplot(x = seed_df['Eccentricity'])"
   ]
  },
  {
   "cell_type": "markdown",
   "id": "0436a102",
   "metadata": {},
   "source": [
    "#### 3.8 Solidity"
   ]
  },
  {
   "cell_type": "code",
   "execution_count": 28,
   "id": "be25f19b",
   "metadata": {},
   "outputs": [
    {
     "data": {
      "text/plain": [
       "<AxesSubplot: xlabel='Solidity'>"
      ]
     },
     "execution_count": 28,
     "metadata": {},
     "output_type": "execute_result"
    },
    {
     "data": {
      "image/png": "[encoded data removed]",
      "text/plain": [
       "<Figure size 640x480 with 1 Axes>"
      ]
     },
     "metadata": {},
     "output_type": "display_data"
    }
   ],
   "source": [
    "sns.boxplot(x = seed_df['Solidity'])"
   ]
  },
  {
   "cell_type": "code",
   "execution_count": 29,
   "id": "4062807c",
   "metadata": {},
   "outputs": [],
   "source": [
    "seed_df['Solidity'] = np.where(seed_df['Solidity'] < 0.9853 ,seed_df['Solidity'].median(),seed_df['Solidity'])"
   ]
  },
  {
   "cell_type": "code",
   "execution_count": 30,
   "id": "aeabce4c",
   "metadata": {},
   "outputs": [
    {
     "data": {
      "text/plain": [
       "<AxesSubplot: xlabel='Solidity'>"
      ]
     },
     "execution_count": 30,
     "metadata": {},
     "output_type": "execute_result"
    },
    {
     "data": {
      "image/png": "[encoded data removed]",
      "text/plain": [
       "<Figure size 640x480 with 1 Axes>"
      ]
     },
     "metadata": {},
     "output_type": "display_data"
    }
   ],
   "source": [
    "sns.boxplot(x = seed_df['Solidity'])"
   ]
  },
  {
   "cell_type": "markdown",
   "id": "cf618a4e",
   "metadata": {},
   "source": [
    "#### 3.9 Extent"
   ]
  },
  {
   "cell_type": "code",
   "execution_count": 31,
   "id": "73a2197b",
   "metadata": {},
   "outputs": [
    {
     "data": {
      "text/plain": [
       "<AxesSubplot: xlabel='Extent'>"
      ]
     },
     "execution_count": 31,
     "metadata": {},
     "output_type": "execute_result"
    },
    {
     "data": {
      "image/png": "[encoded data removed]",
      "text/plain": [
       "<Figure size 640x480 with 1 Axes>"
      ]
     },
     "metadata": {},
     "output_type": "display_data"
    }
   ],
   "source": [
    "sns.boxplot(x = seed_df['Extent'])"
   ]
  },
  {
   "cell_type": "code",
   "execution_count": 32,
   "id": "117b27b7",
   "metadata": {},
   "outputs": [],
   "source": [
    "seed_df['Extent'] = np.where(seed_df['Extent'] < 0.57 ,seed_df['Extent'].median(),seed_df['Extent'])"
   ]
  },
  {
   "cell_type": "code",
   "execution_count": 33,
   "id": "c19f90af",
   "metadata": {},
   "outputs": [
    {
     "data": {
      "text/plain": [
       "<AxesSubplot: xlabel='Extent'>"
      ]
     },
     "execution_count": 33,
     "metadata": {},
     "output_type": "execute_result"
    },
    {
     "data": {
      "image/png": "[encoded data removed]",
      "text/plain": [
       "<Figure size 640x480 with 1 Axes>"
      ]
     },
     "metadata": {},
     "output_type": "display_data"
    }
   ],
   "source": [
    "sns.boxplot(x = seed_df['Extent'])"
   ]
  },
  {
   "cell_type": "markdown",
   "id": "a9616672",
   "metadata": {},
   "source": [
    "#### 3.10 Roundness"
   ]
  },
  {
   "cell_type": "code",
   "execution_count": 34,
   "id": "ddc1a3ec",
   "metadata": {
    "scrolled": false
   },
   "outputs": [
    {
     "data": {
      "text/plain": [
       "<AxesSubplot: xlabel='Roundness'>"
      ]
     },
     "execution_count": 34,
     "metadata": {},
     "output_type": "execute_result"
    },
    {
     "data": {
      "image/png": "[encoded data removed]",
      "text/plain": [
       "<Figure size 640x480 with 1 Axes>"
      ]
     },
     "metadata": {},
     "output_type": "display_data"
    }
   ],
   "source": [
    "sns.boxplot(x = seed_df['Roundness'])"
   ]
  },
  {
   "cell_type": "code",
   "execution_count": 35,
   "id": "702b9750",
   "metadata": {},
   "outputs": [],
   "source": [
    "seed_df['Roundness'] = np.where(seed_df['Roundness'] < 0.63 ,seed_df['Roundness'].median(),seed_df['Roundness'])"
   ]
  },
  {
   "cell_type": "code",
   "execution_count": 36,
   "id": "1fd4ac16",
   "metadata": {},
   "outputs": [
    {
     "data": {
      "text/plain": [
       "<AxesSubplot: xlabel='Roundness'>"
      ]
     },
     "execution_count": 36,
     "metadata": {},
     "output_type": "execute_result"
    },
    {
     "data": {
      "image/png": "[encoded data removed]",
      "text/plain": [
       "<Figure size 640x480 with 1 Axes>"
      ]
     },
     "metadata": {},
     "output_type": "display_data"
    }
   ],
   "source": [
    "sns.boxplot(x = seed_df['Roundness'])"
   ]
  },
  {
   "cell_type": "markdown",
   "id": "a4b4d33d",
   "metadata": {},
   "source": [
    "#### 3.11 Aspect_Ration"
   ]
  },
  {
   "cell_type": "code",
   "execution_count": 37,
   "id": "72409631",
   "metadata": {},
   "outputs": [
    {
     "data": {
      "text/plain": [
       "<AxesSubplot: xlabel='Aspect_Ration'>"
      ]
     },
     "execution_count": 37,
     "metadata": {},
     "output_type": "execute_result"
    },
    {
     "data": {
      "image/png": "[encoded data removed]",
      "text/plain": [
       "<Figure size 640x480 with 1 Axes>"
      ]
     },
     "metadata": {},
     "output_type": "display_data"
    }
   ],
   "source": [
    "sns.boxplot(x = seed_df['Aspect_Ration'])"
   ]
  },
  {
   "cell_type": "code",
   "execution_count": 38,
   "id": "10b73846",
   "metadata": {},
   "outputs": [],
   "source": [
    "seed_df['Aspect_Ration'] = np.where(seed_df['Aspect_Ration'] > 2.90,seed_df['Aspect_Ration'].median(),seed_df['Aspect_Ration'])"
   ]
  },
  {
   "cell_type": "code",
   "execution_count": 39,
   "id": "bc3ee0dc",
   "metadata": {},
   "outputs": [
    {
     "data": {
      "text/plain": [
       "<AxesSubplot: xlabel='Aspect_Ration'>"
      ]
     },
     "execution_count": 39,
     "metadata": {},
     "output_type": "execute_result"
    },
    {
     "data": {
      "image/png": "[encoded data removed]",
      "text/plain": [
       "<Figure size 640x480 with 1 Axes>"
      ]
     },
     "metadata": {},
     "output_type": "display_data"
    }
   ],
   "source": [
    "sns.boxplot(x = seed_df['Aspect_Ration'])"
   ]
  },
  {
   "cell_type": "markdown",
   "id": "be441c83",
   "metadata": {},
   "source": [
    "#### 3.12 Compactness"
   ]
  },
  {
   "cell_type": "code",
   "execution_count": 40,
   "id": "7ba3e4fd",
   "metadata": {},
   "outputs": [
    {
     "data": {
      "text/plain": [
       "<AxesSubplot: xlabel='Compactness'>"
      ]
     },
     "execution_count": 40,
     "metadata": {},
     "output_type": "execute_result"
    },
    {
     "data": {
      "image/png": "[encoded data removed]",
      "text/plain": [
       "<Figure size 640x480 with 1 Axes>"
      ]
     },
     "metadata": {},
     "output_type": "display_data"
    }
   ],
   "source": [
    "sns.boxplot(x = seed_df['Compactness'])"
   ]
  },
  {
   "cell_type": "code",
   "execution_count": 41,
   "id": "5009ef5d",
   "metadata": {},
   "outputs": [],
   "source": [
    "seed_df['Compactness'] = np.where(seed_df['Compactness'] > 0.86,seed_df['Compactness'].median(),seed_df['Compactness'])"
   ]
  },
  {
   "cell_type": "code",
   "execution_count": 42,
   "id": "2fa55135",
   "metadata": {},
   "outputs": [
    {
     "data": {
      "text/plain": [
       "<AxesSubplot: xlabel='Compactness'>"
      ]
     },
     "execution_count": 42,
     "metadata": {},
     "output_type": "execute_result"
    },
    {
     "data": {
      "image/png": "[encoded data removed]",
      "text/plain": [
       "<Figure size 640x480 with 1 Axes>"
      ]
     },
     "metadata": {},
     "output_type": "display_data"
    }
   ],
   "source": [
    "sns.boxplot(x = seed_df['Compactness'])"
   ]
  },
  {
   "cell_type": "code",
   "execution_count": 43,
   "id": "e379665a",
   "metadata": {},
   "outputs": [
    {
     "data": {
      "text/html": [
       "<div>\n",
       "<style scoped>\n",
       "    .dataframe tbody tr th:only-of-type {\n",
       "        vertical-align: middle;\n",
       "    }\n",
       "\n",
       "    .dataframe tbody tr th {\n",
       "        vertical-align: top;\n",
       "    }\n",
       "\n",
       "    .dataframe thead th {\n",
       "        text-align: right;\n",
       "    }\n",
       "</style>\n",
       "<table border=\"1\" class=\"dataframe\">\n",
       "  <thead>\n",
       "    <tr style=\"text-align: right;\">\n",
       "      <th></th>\n",
       "      <th>Area</th>\n",
       "      <th>Perimeter</th>\n",
       "      <th>Major_Axis_Length</th>\n",
       "      <th>Minor_Axis_Length</th>\n",
       "      <th>Convex_Area</th>\n",
       "      <th>Equiv_Diameter</th>\n",
       "      <th>Eccentricity</th>\n",
       "      <th>Solidity</th>\n",
       "      <th>Extent</th>\n",
       "      <th>Roundness</th>\n",
       "      <th>Aspect_Ration</th>\n",
       "      <th>Compactness</th>\n",
       "      <th>Class</th>\n",
       "    </tr>\n",
       "  </thead>\n",
       "  <tbody>\n",
       "    <tr>\n",
       "      <th>0</th>\n",
       "      <td>56276.0</td>\n",
       "      <td>888.242</td>\n",
       "      <td>326.1485</td>\n",
       "      <td>220.2388</td>\n",
       "      <td>56831.0</td>\n",
       "      <td>267.6805</td>\n",
       "      <td>0.8637</td>\n",
       "      <td>0.9902</td>\n",
       "      <td>0.74530</td>\n",
       "      <td>0.8963</td>\n",
       "      <td>1.4809</td>\n",
       "      <td>0.8207</td>\n",
       "      <td>Çerçevelik</td>\n",
       "    </tr>\n",
       "    <tr>\n",
       "      <th>1</th>\n",
       "      <td>76631.0</td>\n",
       "      <td>1068.146</td>\n",
       "      <td>417.1932</td>\n",
       "      <td>234.2289</td>\n",
       "      <td>77280.0</td>\n",
       "      <td>312.3614</td>\n",
       "      <td>0.8275</td>\n",
       "      <td>0.9916</td>\n",
       "      <td>0.71510</td>\n",
       "      <td>0.8440</td>\n",
       "      <td>1.7811</td>\n",
       "      <td>0.7487</td>\n",
       "      <td>Çerçevelik</td>\n",
       "    </tr>\n",
       "    <tr>\n",
       "      <th>2</th>\n",
       "      <td>71623.0</td>\n",
       "      <td>1082.987</td>\n",
       "      <td>435.8328</td>\n",
       "      <td>211.0457</td>\n",
       "      <td>72663.0</td>\n",
       "      <td>301.9822</td>\n",
       "      <td>0.8749</td>\n",
       "      <td>0.9857</td>\n",
       "      <td>0.74000</td>\n",
       "      <td>0.7674</td>\n",
       "      <td>2.0651</td>\n",
       "      <td>0.6929</td>\n",
       "      <td>Çerçevelik</td>\n",
       "    </tr>\n",
       "    <tr>\n",
       "      <th>3</th>\n",
       "      <td>66458.0</td>\n",
       "      <td>992.051</td>\n",
       "      <td>381.5638</td>\n",
       "      <td>222.5322</td>\n",
       "      <td>67118.0</td>\n",
       "      <td>290.8899</td>\n",
       "      <td>0.8123</td>\n",
       "      <td>0.9902</td>\n",
       "      <td>0.73960</td>\n",
       "      <td>0.8486</td>\n",
       "      <td>1.7146</td>\n",
       "      <td>0.7624</td>\n",
       "      <td>Çerçevelik</td>\n",
       "    </tr>\n",
       "    <tr>\n",
       "      <th>4</th>\n",
       "      <td>66107.0</td>\n",
       "      <td>998.146</td>\n",
       "      <td>383.8883</td>\n",
       "      <td>220.4545</td>\n",
       "      <td>67117.0</td>\n",
       "      <td>290.1207</td>\n",
       "      <td>0.8187</td>\n",
       "      <td>0.9903</td>\n",
       "      <td>0.67520</td>\n",
       "      <td>0.8338</td>\n",
       "      <td>1.7413</td>\n",
       "      <td>0.7557</td>\n",
       "      <td>Çerçevelik</td>\n",
       "    </tr>\n",
       "    <tr>\n",
       "      <th>...</th>\n",
       "      <td>...</td>\n",
       "      <td>...</td>\n",
       "      <td>...</td>\n",
       "      <td>...</td>\n",
       "      <td>...</td>\n",
       "      <td>...</td>\n",
       "      <td>...</td>\n",
       "      <td>...</td>\n",
       "      <td>...</td>\n",
       "      <td>...</td>\n",
       "      <td>...</td>\n",
       "      <td>...</td>\n",
       "      <td>...</td>\n",
       "    </tr>\n",
       "    <tr>\n",
       "      <th>2495</th>\n",
       "      <td>79637.0</td>\n",
       "      <td>1224.710</td>\n",
       "      <td>533.1513</td>\n",
       "      <td>190.4367</td>\n",
       "      <td>80381.0</td>\n",
       "      <td>318.4289</td>\n",
       "      <td>0.9340</td>\n",
       "      <td>0.9907</td>\n",
       "      <td>0.71305</td>\n",
       "      <td>0.6672</td>\n",
       "      <td>2.7996</td>\n",
       "      <td>0.5973</td>\n",
       "      <td>Ürgüp Sivrisi</td>\n",
       "    </tr>\n",
       "    <tr>\n",
       "      <th>2496</th>\n",
       "      <td>69647.0</td>\n",
       "      <td>1084.318</td>\n",
       "      <td>462.9416</td>\n",
       "      <td>191.8210</td>\n",
       "      <td>70216.0</td>\n",
       "      <td>297.7874</td>\n",
       "      <td>0.9101</td>\n",
       "      <td>0.9919</td>\n",
       "      <td>0.60020</td>\n",
       "      <td>0.7444</td>\n",
       "      <td>2.4134</td>\n",
       "      <td>0.6433</td>\n",
       "      <td>Ürgüp Sivrisi</td>\n",
       "    </tr>\n",
       "    <tr>\n",
       "      <th>2497</th>\n",
       "      <td>87994.0</td>\n",
       "      <td>1210.314</td>\n",
       "      <td>507.2200</td>\n",
       "      <td>222.1872</td>\n",
       "      <td>88702.0</td>\n",
       "      <td>334.7199</td>\n",
       "      <td>0.8990</td>\n",
       "      <td>0.9920</td>\n",
       "      <td>0.76430</td>\n",
       "      <td>0.7549</td>\n",
       "      <td>2.2828</td>\n",
       "      <td>0.6599</td>\n",
       "      <td>Ürgüp Sivrisi</td>\n",
       "    </tr>\n",
       "    <tr>\n",
       "      <th>2498</th>\n",
       "      <td>80011.0</td>\n",
       "      <td>1182.947</td>\n",
       "      <td>501.9065</td>\n",
       "      <td>204.7531</td>\n",
       "      <td>80902.0</td>\n",
       "      <td>319.1758</td>\n",
       "      <td>0.9130</td>\n",
       "      <td>0.9890</td>\n",
       "      <td>0.73740</td>\n",
       "      <td>0.7185</td>\n",
       "      <td>2.4513</td>\n",
       "      <td>0.6359</td>\n",
       "      <td>Ürgüp Sivrisi</td>\n",
       "    </tr>\n",
       "    <tr>\n",
       "      <th>2499</th>\n",
       "      <td>84934.0</td>\n",
       "      <td>1159.933</td>\n",
       "      <td>462.8951</td>\n",
       "      <td>234.5597</td>\n",
       "      <td>85781.0</td>\n",
       "      <td>328.8485</td>\n",
       "      <td>0.8621</td>\n",
       "      <td>0.9901</td>\n",
       "      <td>0.73600</td>\n",
       "      <td>0.7933</td>\n",
       "      <td>1.9735</td>\n",
       "      <td>0.7104</td>\n",
       "      <td>Ürgüp Sivrisi</td>\n",
       "    </tr>\n",
       "  </tbody>\n",
       "</table>\n",
       "<p>2500 rows × 13 columns</p>\n",
       "</div>"
      ],
      "text/plain": [
       "         Area  Perimeter  Major_Axis_Length  Minor_Axis_Length  Convex_Area  \\\n",
       "0     56276.0    888.242           326.1485           220.2388      56831.0   \n",
       "1     76631.0   1068.146           417.1932           234.2289      77280.0   \n",
       "2     71623.0   1082.987           435.8328           211.0457      72663.0   \n",
       "3     66458.0    992.051           381.5638           222.5322      67118.0   \n",
       "4     66107.0    998.146           383.8883           220.4545      67117.0   \n",
       "...       ...        ...                ...                ...          ...   \n",
       "2495  79637.0   1224.710           533.1513           190.4367      80381.0   \n",
       "2496  69647.0   1084.318           462.9416           191.8210      70216.0   \n",
       "2497  87994.0   1210.314           507.2200           222.1872      88702.0   \n",
       "2498  80011.0   1182.947           501.9065           204.7531      80902.0   \n",
       "2499  84934.0   1159.933           462.8951           234.5597      85781.0   \n",
       "\n",
       "      Equiv_Diameter  Eccentricity  Solidity   Extent  Roundness  \\\n",
       "0           267.6805        0.8637    0.9902  0.74530     0.8963   \n",
       "1           312.3614        0.8275    0.9916  0.71510     0.8440   \n",
       "2           301.9822        0.8749    0.9857  0.74000     0.7674   \n",
       "3           290.8899        0.8123    0.9902  0.73960     0.8486   \n",
       "4           290.1207        0.8187    0.9903  0.67520     0.8338   \n",
       "...              ...           ...       ...      ...        ...   \n",
       "2495        318.4289        0.9340    0.9907  0.71305     0.6672   \n",
       "2496        297.7874        0.9101    0.9919  0.60020     0.7444   \n",
       "2497        334.7199        0.8990    0.9920  0.76430     0.7549   \n",
       "2498        319.1758        0.9130    0.9890  0.73740     0.7185   \n",
       "2499        328.8485        0.8621    0.9901  0.73600     0.7933   \n",
       "\n",
       "      Aspect_Ration  Compactness          Class  \n",
       "0            1.4809       0.8207     Çerçevelik  \n",
       "1            1.7811       0.7487     Çerçevelik  \n",
       "2            2.0651       0.6929     Çerçevelik  \n",
       "3            1.7146       0.7624     Çerçevelik  \n",
       "4            1.7413       0.7557     Çerçevelik  \n",
       "...             ...          ...            ...  \n",
       "2495         2.7996       0.5973  Ürgüp Sivrisi  \n",
       "2496         2.4134       0.6433  Ürgüp Sivrisi  \n",
       "2497         2.2828       0.6599  Ürgüp Sivrisi  \n",
       "2498         2.4513       0.6359  Ürgüp Sivrisi  \n",
       "2499         1.9735       0.7104  Ürgüp Sivrisi  \n",
       "\n",
       "[2500 rows x 13 columns]"
      ]
     },
     "execution_count": 43,
     "metadata": {},
     "output_type": "execute_result"
    }
   ],
   "source": [
    "seed_df"
   ]
  },
  {
   "cell_type": "markdown",
   "id": "db5d35ea",
   "metadata": {},
   "source": [
    "### 4.Feature Engineering"
   ]
  },
  {
   "cell_type": "markdown",
   "id": "6f4dddeb",
   "metadata": {},
   "source": [
    "### 5.Feature Selection"
   ]
  },
  {
   "cell_type": "markdown",
   "id": "822cddc3",
   "metadata": {},
   "source": [
    "#### VIF"
   ]
  },
  {
   "cell_type": "code",
   "execution_count": 44,
   "id": "01d1e200",
   "metadata": {},
   "outputs": [],
   "source": [
    "from statsmodels.stats.outliers_influence import variance_inflation_factor"
   ]
  },
  {
   "cell_type": "code",
   "execution_count": 45,
   "id": "59705320",
   "metadata": {},
   "outputs": [
    {
     "data": {
      "text/html": [
       "<div>\n",
       "<style scoped>\n",
       "    .dataframe tbody tr th:only-of-type {\n",
       "        vertical-align: middle;\n",
       "    }\n",
       "\n",
       "    .dataframe tbody tr th {\n",
       "        vertical-align: top;\n",
       "    }\n",
       "\n",
       "    .dataframe thead th {\n",
       "        text-align: right;\n",
       "    }\n",
       "</style>\n",
       "<table border=\"1\" class=\"dataframe\">\n",
       "  <thead>\n",
       "    <tr style=\"text-align: right;\">\n",
       "      <th></th>\n",
       "      <th>Area</th>\n",
       "      <th>Perimeter</th>\n",
       "      <th>Major_Axis_Length</th>\n",
       "      <th>Minor_Axis_Length</th>\n",
       "      <th>Convex_Area</th>\n",
       "      <th>Equiv_Diameter</th>\n",
       "      <th>Eccentricity</th>\n",
       "      <th>Solidity</th>\n",
       "      <th>Extent</th>\n",
       "      <th>Roundness</th>\n",
       "      <th>Aspect_Ration</th>\n",
       "      <th>Compactness</th>\n",
       "    </tr>\n",
       "  </thead>\n",
       "  <tbody>\n",
       "    <tr>\n",
       "      <th>0</th>\n",
       "      <td>56276.0</td>\n",
       "      <td>888.242</td>\n",
       "      <td>326.1485</td>\n",
       "      <td>220.2388</td>\n",
       "      <td>56831.0</td>\n",
       "      <td>267.6805</td>\n",
       "      <td>0.8637</td>\n",
       "      <td>0.9902</td>\n",
       "      <td>0.74530</td>\n",
       "      <td>0.8963</td>\n",
       "      <td>1.4809</td>\n",
       "      <td>0.8207</td>\n",
       "    </tr>\n",
       "    <tr>\n",
       "      <th>1</th>\n",
       "      <td>76631.0</td>\n",
       "      <td>1068.146</td>\n",
       "      <td>417.1932</td>\n",
       "      <td>234.2289</td>\n",
       "      <td>77280.0</td>\n",
       "      <td>312.3614</td>\n",
       "      <td>0.8275</td>\n",
       "      <td>0.9916</td>\n",
       "      <td>0.71510</td>\n",
       "      <td>0.8440</td>\n",
       "      <td>1.7811</td>\n",
       "      <td>0.7487</td>\n",
       "    </tr>\n",
       "    <tr>\n",
       "      <th>2</th>\n",
       "      <td>71623.0</td>\n",
       "      <td>1082.987</td>\n",
       "      <td>435.8328</td>\n",
       "      <td>211.0457</td>\n",
       "      <td>72663.0</td>\n",
       "      <td>301.9822</td>\n",
       "      <td>0.8749</td>\n",
       "      <td>0.9857</td>\n",
       "      <td>0.74000</td>\n",
       "      <td>0.7674</td>\n",
       "      <td>2.0651</td>\n",
       "      <td>0.6929</td>\n",
       "    </tr>\n",
       "    <tr>\n",
       "      <th>3</th>\n",
       "      <td>66458.0</td>\n",
       "      <td>992.051</td>\n",
       "      <td>381.5638</td>\n",
       "      <td>222.5322</td>\n",
       "      <td>67118.0</td>\n",
       "      <td>290.8899</td>\n",
       "      <td>0.8123</td>\n",
       "      <td>0.9902</td>\n",
       "      <td>0.73960</td>\n",
       "      <td>0.8486</td>\n",
       "      <td>1.7146</td>\n",
       "      <td>0.7624</td>\n",
       "    </tr>\n",
       "    <tr>\n",
       "      <th>4</th>\n",
       "      <td>66107.0</td>\n",
       "      <td>998.146</td>\n",
       "      <td>383.8883</td>\n",
       "      <td>220.4545</td>\n",
       "      <td>67117.0</td>\n",
       "      <td>290.1207</td>\n",
       "      <td>0.8187</td>\n",
       "      <td>0.9903</td>\n",
       "      <td>0.67520</td>\n",
       "      <td>0.8338</td>\n",
       "      <td>1.7413</td>\n",
       "      <td>0.7557</td>\n",
       "    </tr>\n",
       "    <tr>\n",
       "      <th>...</th>\n",
       "      <td>...</td>\n",
       "      <td>...</td>\n",
       "      <td>...</td>\n",
       "      <td>...</td>\n",
       "      <td>...</td>\n",
       "      <td>...</td>\n",
       "      <td>...</td>\n",
       "      <td>...</td>\n",
       "      <td>...</td>\n",
       "      <td>...</td>\n",
       "      <td>...</td>\n",
       "      <td>...</td>\n",
       "    </tr>\n",
       "    <tr>\n",
       "      <th>2495</th>\n",
       "      <td>79637.0</td>\n",
       "      <td>1224.710</td>\n",
       "      <td>533.1513</td>\n",
       "      <td>190.4367</td>\n",
       "      <td>80381.0</td>\n",
       "      <td>318.4289</td>\n",
       "      <td>0.9340</td>\n",
       "      <td>0.9907</td>\n",
       "      <td>0.71305</td>\n",
       "      <td>0.6672</td>\n",
       "      <td>2.7996</td>\n",
       "      <td>0.5973</td>\n",
       "    </tr>\n",
       "    <tr>\n",
       "      <th>2496</th>\n",
       "      <td>69647.0</td>\n",
       "      <td>1084.318</td>\n",
       "      <td>462.9416</td>\n",
       "      <td>191.8210</td>\n",
       "      <td>70216.0</td>\n",
       "      <td>297.7874</td>\n",
       "      <td>0.9101</td>\n",
       "      <td>0.9919</td>\n",
       "      <td>0.60020</td>\n",
       "      <td>0.7444</td>\n",
       "      <td>2.4134</td>\n",
       "      <td>0.6433</td>\n",
       "    </tr>\n",
       "    <tr>\n",
       "      <th>2497</th>\n",
       "      <td>87994.0</td>\n",
       "      <td>1210.314</td>\n",
       "      <td>507.2200</td>\n",
       "      <td>222.1872</td>\n",
       "      <td>88702.0</td>\n",
       "      <td>334.7199</td>\n",
       "      <td>0.8990</td>\n",
       "      <td>0.9920</td>\n",
       "      <td>0.76430</td>\n",
       "      <td>0.7549</td>\n",
       "      <td>2.2828</td>\n",
       "      <td>0.6599</td>\n",
       "    </tr>\n",
       "    <tr>\n",
       "      <th>2498</th>\n",
       "      <td>80011.0</td>\n",
       "      <td>1182.947</td>\n",
       "      <td>501.9065</td>\n",
       "      <td>204.7531</td>\n",
       "      <td>80902.0</td>\n",
       "      <td>319.1758</td>\n",
       "      <td>0.9130</td>\n",
       "      <td>0.9890</td>\n",
       "      <td>0.73740</td>\n",
       "      <td>0.7185</td>\n",
       "      <td>2.4513</td>\n",
       "      <td>0.6359</td>\n",
       "    </tr>\n",
       "    <tr>\n",
       "      <th>2499</th>\n",
       "      <td>84934.0</td>\n",
       "      <td>1159.933</td>\n",
       "      <td>462.8951</td>\n",
       "      <td>234.5597</td>\n",
       "      <td>85781.0</td>\n",
       "      <td>328.8485</td>\n",
       "      <td>0.8621</td>\n",
       "      <td>0.9901</td>\n",
       "      <td>0.73600</td>\n",
       "      <td>0.7933</td>\n",
       "      <td>1.9735</td>\n",
       "      <td>0.7104</td>\n",
       "    </tr>\n",
       "  </tbody>\n",
       "</table>\n",
       "<p>2500 rows × 12 columns</p>\n",
       "</div>"
      ],
      "text/plain": [
       "         Area  Perimeter  Major_Axis_Length  Minor_Axis_Length  Convex_Area  \\\n",
       "0     56276.0    888.242           326.1485           220.2388      56831.0   \n",
       "1     76631.0   1068.146           417.1932           234.2289      77280.0   \n",
       "2     71623.0   1082.987           435.8328           211.0457      72663.0   \n",
       "3     66458.0    992.051           381.5638           222.5322      67118.0   \n",
       "4     66107.0    998.146           383.8883           220.4545      67117.0   \n",
       "...       ...        ...                ...                ...          ...   \n",
       "2495  79637.0   1224.710           533.1513           190.4367      80381.0   \n",
       "2496  69647.0   1084.318           462.9416           191.8210      70216.0   \n",
       "2497  87994.0   1210.314           507.2200           222.1872      88702.0   \n",
       "2498  80011.0   1182.947           501.9065           204.7531      80902.0   \n",
       "2499  84934.0   1159.933           462.8951           234.5597      85781.0   \n",
       "\n",
       "      Equiv_Diameter  Eccentricity  Solidity   Extent  Roundness  \\\n",
       "0           267.6805        0.8637    0.9902  0.74530     0.8963   \n",
       "1           312.3614        0.8275    0.9916  0.71510     0.8440   \n",
       "2           301.9822        0.8749    0.9857  0.74000     0.7674   \n",
       "3           290.8899        0.8123    0.9902  0.73960     0.8486   \n",
       "4           290.1207        0.8187    0.9903  0.67520     0.8338   \n",
       "...              ...           ...       ...      ...        ...   \n",
       "2495        318.4289        0.9340    0.9907  0.71305     0.6672   \n",
       "2496        297.7874        0.9101    0.9919  0.60020     0.7444   \n",
       "2497        334.7199        0.8990    0.9920  0.76430     0.7549   \n",
       "2498        319.1758        0.9130    0.9890  0.73740     0.7185   \n",
       "2499        328.8485        0.8621    0.9901  0.73600     0.7933   \n",
       "\n",
       "      Aspect_Ration  Compactness  \n",
       "0            1.4809       0.8207  \n",
       "1            1.7811       0.7487  \n",
       "2            2.0651       0.6929  \n",
       "3            1.7146       0.7624  \n",
       "4            1.7413       0.7557  \n",
       "...             ...          ...  \n",
       "2495         2.7996       0.5973  \n",
       "2496         2.4134       0.6433  \n",
       "2497         2.2828       0.6599  \n",
       "2498         2.4513       0.6359  \n",
       "2499         1.9735       0.7104  \n",
       "\n",
       "[2500 rows x 12 columns]"
      ]
     },
     "execution_count": 45,
     "metadata": {},
     "output_type": "execute_result"
    }
   ],
   "source": [
    "x = seed_df.drop('Class',axis=1)\n",
    "x"
   ]
  },
  {
   "cell_type": "code",
   "execution_count": 46,
   "id": "4d7bfb29",
   "metadata": {},
   "outputs": [
    {
     "data": {
      "text/plain": [
       "5597.770171198946"
      ]
     },
     "execution_count": 46,
     "metadata": {},
     "output_type": "execute_result"
    }
   ],
   "source": [
    "variance_inflation_factor(x.values,1)"
   ]
  },
  {
   "cell_type": "code",
   "execution_count": 47,
   "id": "aef56624",
   "metadata": {},
   "outputs": [
    {
     "data": {
      "text/plain": [
       "<AxesSubplot: >"
      ]
     },
     "execution_count": 47,
     "metadata": {},
     "output_type": "execute_result"
    },
    {
     "data": {
      "image/png": "[encoded data removed]",
      "text/plain": [
       "<Figure size 640x480 with 1 Axes>"
      ]
     },
     "metadata": {},
     "output_type": "display_data"
    }
   ],
   "source": [
    "vif_list = []\n",
    "for i in range (x.shape[1]):\n",
    "    vif = variance_inflation_factor(x.values,i)\n",
    "    vif_list.append(round(vif,2))\n",
    "s1 = pd.Series(vif_list)\n",
    "s1.sort_values().plot(kind = 'barh')"
   ]
  },
  {
   "cell_type": "code",
   "execution_count": 48,
   "id": "87d81c62",
   "metadata": {},
   "outputs": [
    {
     "data": {
      "text/html": [
       "<div>\n",
       "<style scoped>\n",
       "    .dataframe tbody tr th:only-of-type {\n",
       "        vertical-align: middle;\n",
       "    }\n",
       "\n",
       "    .dataframe tbody tr th {\n",
       "        vertical-align: top;\n",
       "    }\n",
       "\n",
       "    .dataframe thead th {\n",
       "        text-align: right;\n",
       "    }\n",
       "</style>\n",
       "<table border=\"1\" class=\"dataframe\">\n",
       "  <thead>\n",
       "    <tr style=\"text-align: right;\">\n",
       "      <th></th>\n",
       "      <th>Area</th>\n",
       "      <th>Perimeter</th>\n",
       "      <th>Major_Axis_Length</th>\n",
       "      <th>Minor_Axis_Length</th>\n",
       "      <th>Convex_Area</th>\n",
       "      <th>Equiv_Diameter</th>\n",
       "      <th>Eccentricity</th>\n",
       "      <th>Solidity</th>\n",
       "      <th>Extent</th>\n",
       "      <th>Roundness</th>\n",
       "      <th>Aspect_Ration</th>\n",
       "      <th>Compactness</th>\n",
       "    </tr>\n",
       "  </thead>\n",
       "  <tbody>\n",
       "    <tr>\n",
       "      <th>Compactness</th>\n",
       "      <td>-0.142223</td>\n",
       "      <td>-0.468947</td>\n",
       "      <td>-0.708677</td>\n",
       "      <td>0.547983</td>\n",
       "      <td>-0.141433</td>\n",
       "      <td>-0.143985</td>\n",
       "      <td>-0.962032</td>\n",
       "      <td>-0.024554</td>\n",
       "      <td>0.160267</td>\n",
       "      <td>0.934513</td>\n",
       "      <td>-0.964971</td>\n",
       "      <td>1.0</td>\n",
       "    </tr>\n",
       "  </tbody>\n",
       "</table>\n",
       "</div>"
      ],
      "text/plain": [
       "                 Area  Perimeter  Major_Axis_Length  Minor_Axis_Length  \\\n",
       "Compactness -0.142223  -0.468947          -0.708677           0.547983   \n",
       "\n",
       "             Convex_Area  Equiv_Diameter  Eccentricity  Solidity    Extent  \\\n",
       "Compactness    -0.141433       -0.143985     -0.962032 -0.024554  0.160267   \n",
       "\n",
       "             Roundness  Aspect_Ration  Compactness  \n",
       "Compactness   0.934513      -0.964971          1.0  "
      ]
     },
     "execution_count": 48,
     "metadata": {},
     "output_type": "execute_result"
    }
   ],
   "source": [
    "seed_df.corr().tail(1)"
   ]
  },
  {
   "cell_type": "code",
   "execution_count": 49,
   "id": "2f10c2e4",
   "metadata": {},
   "outputs": [
    {
     "data": {
      "text/plain": [
       "Çerçevelik       1300\n",
       "Ürgüp Sivrisi    1200\n",
       "Name: Class, dtype: int64"
      ]
     },
     "execution_count": 49,
     "metadata": {},
     "output_type": "execute_result"
    }
   ],
   "source": [
    "seed_df['Class'].value_counts()"
   ]
  },
  {
   "cell_type": "markdown",
   "id": "ab3f0238",
   "metadata": {},
   "source": [
    "### 6.Model Training"
   ]
  },
  {
   "cell_type": "code",
   "execution_count": 81,
   "id": "9e3d8198",
   "metadata": {},
   "outputs": [],
   "source": [
    "x = seed_df.drop('Class',axis=1)\n",
    "y = seed_df['Class']"
   ]
  },
  {
   "cell_type": "markdown",
   "id": "6cbbdc45",
   "metadata": {},
   "source": [
    "#### train-test split"
   ]
  },
  {
   "cell_type": "code",
   "execution_count": 51,
   "id": "9eb9b391",
   "metadata": {},
   "outputs": [],
   "source": [
    "x_train , x_test,y_train,y_test = train_test_split(x, y ,test_size=0.2,random_state=5,stratify=y)"
   ]
  },
  {
   "cell_type": "code",
   "execution_count": 52,
   "id": "e8d94030",
   "metadata": {},
   "outputs": [
    {
     "data": {
      "text/plain": [
       "Çerçevelik       0.52\n",
       "Ürgüp Sivrisi    0.48\n",
       "Name: Class, dtype: float64"
      ]
     },
     "execution_count": 52,
     "metadata": {},
     "output_type": "execute_result"
    }
   ],
   "source": [
    "y.value_counts(normalize=True)"
   ]
  },
  {
   "cell_type": "code",
   "execution_count": 53,
   "id": "f1c5af7b",
   "metadata": {},
   "outputs": [
    {
     "data": {
      "text/plain": [
       "Çerçevelik       0.52\n",
       "Ürgüp Sivrisi    0.48\n",
       "Name: Class, dtype: float64"
      ]
     },
     "execution_count": 53,
     "metadata": {},
     "output_type": "execute_result"
    }
   ],
   "source": [
    "y_train.value_counts(normalize=True)"
   ]
  },
  {
   "cell_type": "code",
   "execution_count": 54,
   "id": "93f3a2f7",
   "metadata": {},
   "outputs": [
    {
     "data": {
      "text/plain": [
       "Çerçevelik       0.52\n",
       "Ürgüp Sivrisi    0.48\n",
       "Name: Class, dtype: float64"
      ]
     },
     "execution_count": 54,
     "metadata": {},
     "output_type": "execute_result"
    }
   ],
   "source": [
    "y_test.value_counts(normalize=True)"
   ]
  },
  {
   "cell_type": "markdown",
   "id": "811fdd2b",
   "metadata": {},
   "source": [
    "### Model Instantiating"
   ]
  },
  {
   "cell_type": "code",
   "execution_count": 55,
   "id": "8ffa2814",
   "metadata": {},
   "outputs": [
    {
     "data": {
      "text/html": [
       "<style>#sk-container-id-1 {color: black;background-color: white;}#sk-container-id-1 pre{padding: 0;}#sk-container-id-1 div.sk-toggleable {background-color: white;}#sk-container-id-1 label.sk-toggleable__label {cursor: pointer;display: block;width: 100%;margin-bottom: 0;padding: 0.3em;box-sizing: border-box;text-align: center;}#sk-container-id-1 label.sk-toggleable__label-arrow:before {content: \"▸\";float: left;margin-right: 0.25em;color: #696969;}#sk-container-id-1 label.sk-toggleable__label-arrow:hover:before {color: black;}#sk-container-id-1 div.sk-estimator:hover label.sk-toggleable__label-arrow:before {color: black;}#sk-container-id-1 div.sk-toggleable__content {max-height: 0;max-width: 0;overflow: hidden;text-align: left;background-color: #f0f8ff;}#sk-container-id-1 div.sk-toggleable__content pre {margin: 0.2em;color: black;border-radius: 0.25em;background-color: #f0f8ff;}#sk-container-id-1 input.sk-toggleable__control:checked~div.sk-toggleable__content {max-height: 200px;max-width: 100%;overflow: auto;}#sk-container-id-1 input.sk-toggleable__control:checked~label.sk-toggleable__label-arrow:before {content: \"▾\";}#sk-container-id-1 div.sk-estimator input.sk-toggleable__control:checked~label.sk-toggleable__label {background-color: #d4ebff;}#sk-container-id-1 div.sk-label input.sk-toggleable__control:checked~label.sk-toggleable__label {background-color: #d4ebff;}#sk-container-id-1 input.sk-hidden--visually {border: 0;clip: rect(1px 1px 1px 1px);clip: rect(1px, 1px, 1px, 1px);height: 1px;margin: -1px;overflow: hidden;padding: 0;position: absolute;width: 1px;}#sk-container-id-1 div.sk-estimator {font-family: monospace;background-color: #f0f8ff;border: 1px dotted black;border-radius: 0.25em;box-sizing: border-box;margin-bottom: 0.5em;}#sk-container-id-1 div.sk-estimator:hover {background-color: #d4ebff;}#sk-container-id-1 div.sk-parallel-item::after {content: \"\";width: 100%;border-bottom: 1px solid gray;flex-grow: 1;}#sk-container-id-1 div.sk-label:hover label.sk-toggleable__label {background-color: #d4ebff;}#sk-container-id-1 div.sk-serial::before {content: \"\";position: absolute;border-left: 1px solid gray;box-sizing: border-box;top: 0;bottom: 0;left: 50%;z-index: 0;}#sk-container-id-1 div.sk-serial {display: flex;flex-direction: column;align-items: center;background-color: white;padding-right: 0.2em;padding-left: 0.2em;position: relative;}#sk-container-id-1 div.sk-item {position: relative;z-index: 1;}#sk-container-id-1 div.sk-parallel {display: flex;align-items: stretch;justify-content: center;background-color: white;position: relative;}#sk-container-id-1 div.sk-item::before, #sk-container-id-1 div.sk-parallel-item::before {content: \"\";position: absolute;border-left: 1px solid gray;box-sizing: border-box;top: 0;bottom: 0;left: 50%;z-index: -1;}#sk-container-id-1 div.sk-parallel-item {display: flex;flex-direction: column;z-index: 1;position: relative;background-color: white;}#sk-container-id-1 div.sk-parallel-item:first-child::after {align-self: flex-end;width: 50%;}#sk-container-id-1 div.sk-parallel-item:last-child::after {align-self: flex-start;width: 50%;}#sk-container-id-1 div.sk-parallel-item:only-child::after {width: 0;}#sk-container-id-1 div.sk-dashed-wrapped {border: 1px dashed gray;margin: 0 0.4em 0.5em 0.4em;box-sizing: border-box;padding-bottom: 0.4em;background-color: white;}#sk-container-id-1 div.sk-label label {font-family: monospace;font-weight: bold;display: inline-block;line-height: 1.2em;}#sk-container-id-1 div.sk-label-container {text-align: center;}#sk-container-id-1 div.sk-container {/* jupyter's `normalize.less` sets `[hidden] { display: none; }` but bootstrap.min.css set `[hidden] { display: none !important; }` so we also need the `!important` here to be able to override the default hidden behavior on the sphinx rendered scikit-learn.org. See: https://github.com/scikit-learn/scikit-learn/issues/21755 */display: inline-block !important;position: relative;}#sk-container-id-1 div.sk-text-repr-fallback {display: none;}</style><div id=\"sk-container-id-1\" class=\"sk-top-container\"><div class=\"sk-text-repr-fallback\"><pre>LogisticRegression()</pre><b>In a Jupyter environment, please rerun this cell to show the HTML representation or trust the notebook. <br />On GitHub, the HTML representation is unable to render, please try loading this page with nbviewer.org.</b></div><div class=\"sk-container\" hidden><div class=\"sk-item\"><div class=\"sk-estimator sk-toggleable\"><input class=\"sk-toggleable__control sk-hidden--visually\" id=\"sk-estimator-id-1\" type=\"checkbox\" checked><label for=\"sk-estimator-id-1\" class=\"sk-toggleable__label sk-toggleable__label-arrow\">LogisticRegression</label><div class=\"sk-toggleable__content\"><pre>LogisticRegression()</pre></div></div></div></div></div>"
      ],
      "text/plain": [
       "LogisticRegression()"
      ]
     },
     "execution_count": 55,
     "metadata": {},
     "output_type": "execute_result"
    }
   ],
   "source": [
    "log_clf = LogisticRegression()\n",
    "log_clf.fit(x_train,y_train)"
   ]
  },
  {
   "cell_type": "markdown",
   "id": "9b424815",
   "metadata": {},
   "source": [
    "### Evaluation"
   ]
  },
  {
   "cell_type": "code",
   "execution_count": 83,
   "id": "817c7ca6",
   "metadata": {},
   "outputs": [
    {
     "name": "stdout",
     "output_type": "stream",
     "text": [
      "******************Testing Data Evaluation ******************\n",
      "Accuracy Score: 0.866\n",
      "****************************************\n",
      "confusion_matrix :\n",
      " [[235  25]\n",
      " [ 42 198]]\n",
      "classification_report :\n",
      "                precision    recall  f1-score   support\n",
      "\n",
      "   Çerçevelik       0.85      0.90      0.88       260\n",
      "Ürgüp Sivrisi       0.89      0.82      0.86       240\n",
      "\n",
      "     accuracy                           0.87       500\n",
      "    macro avg       0.87      0.86      0.87       500\n",
      " weighted avg       0.87      0.87      0.87       500\n",
      "\n"
     ]
    }
   ],
   "source": [
    "def model_evaluation(model,ind_var,act):\n",
    "    pred = model.predict(ind_var)\n",
    "    \n",
    "    acc_score = accuracy_score(act,pred)\n",
    "    print('Accuracy Score:', acc_score)\n",
    "    print('**'*20)\n",
    "    \n",
    "    cnf_matrix = confusion_matrix(act,pred)\n",
    "    print('confusion_matrix :\\n',cnf_matrix)\n",
    "    \n",
    "    clf_report = classification_report(act,pred)\n",
    "    print('classification_report :\\n', clf_report)\n",
    "    \n",
    "    return pred\n",
    "\n",
    "print('Testing Data Evaluation '.center(60,'*'))\n",
    "y_pred = model_evaluation(log_clf,x_test,y_test)\n"
   ]
  },
  {
   "cell_type": "code",
   "execution_count": 57,
   "id": "ef952376",
   "metadata": {},
   "outputs": [
    {
     "name": "stdout",
     "output_type": "stream",
     "text": [
      "******************Traning Data Evaluation ******************\n",
      "confusion_matrix :\n",
      " [[918 122]\n",
      " [168 792]]\n",
      "classification_report :\n",
      "                precision    recall  f1-score   support\n",
      "\n",
      "   Çerçevelik       0.85      0.88      0.86      1040\n",
      "Ürgüp Sivrisi       0.87      0.82      0.85       960\n",
      "\n",
      "     accuracy                           0.85      2000\n",
      "    macro avg       0.86      0.85      0.85      2000\n",
      " weighted avg       0.86      0.85      0.85      2000\n",
      "\n"
     ]
    },
    {
     "data": {
      "text/plain": [
       "array(['Ürgüp Sivrisi', 'Ürgüp Sivrisi', 'Çerçevelik', ..., 'Çerçevelik',\n",
       "       'Çerçevelik', 'Çerçevelik'], dtype=object)"
      ]
     },
     "execution_count": 57,
     "metadata": {},
     "output_type": "execute_result"
    }
   ],
   "source": [
    "print('Traning Data Evaluation '.center(60,'*'))\n",
    "model_evaluation(log_clf,x_train,y_train)"
   ]
  },
  {
   "cell_type": "code",
   "execution_count": 58,
   "id": "4e4bea2d",
   "metadata": {},
   "outputs": [
    {
     "data": {
      "text/plain": [
       "<AxesSubplot: >"
      ]
     },
     "execution_count": 58,
     "metadata": {},
     "output_type": "execute_result"
    },
    {
     "data": {
      "image/png": "[encoded data removed]",
      "text/plain": [
       "<Figure size 600x400 with 2 Axes>"
      ]
     },
     "metadata": {},
     "output_type": "display_data"
    }
   ],
   "source": [
    "plt.figure(figsize=(6,4))\n",
    "cnf_matrix = confusion_matrix(y_test,y_pred)\n",
    "sns.heatmap(cnf_matrix,annot=True)"
   ]
  },
  {
   "cell_type": "code",
   "execution_count": null,
   "id": "dc445e58",
   "metadata": {},
   "outputs": [],
   "source": [
    "Area =8400\n",
    "Perimeter =1200 \n",
    "Major_Axis_Length =350.25\n",
    "Minor_Axis_Length =234\n",
    "Convex_Area =7514.25\n",
    "Equiv_Diameter =361.14\n",
    "Eccentricity =0.89\n",
    "Solidity =0.987\n",
    "Extent =0.547\n",
    "Roundness =0.678\n",
    "Aspect_Ration = 3.254\n",
    "Compactness =0.789\n",
    "\n",
    "test_arr = np.array([[Area,Perimeter,Major_Axis_Length,Minor_Axis_Length,Convex_Area,Equiv_Diameter,Eccentricity,Solidity,Extent,Roundness,Aspect_Ration,Compactness]])\n",
    "\n",
    "pred_prob = log_clf.predict_proba(test_arr)[0]\n",
    "\n",
    "pred_class = log_clf.predict(test_arr)[0]\n",
    "\n",
    "print('Predicted Class : ',pred_class)"
   ]
  },
  {
   "cell_type": "code",
   "execution_count": 84,
   "id": "94db06fd",
   "metadata": {},
   "outputs": [],
   "source": [
    "import pickle\n",
    "import json"
   ]
  },
  {
   "cell_type": "code",
   "execution_count": 85,
   "id": "de55e3bf",
   "metadata": {},
   "outputs": [],
   "source": [
    "with open('Logistic_model.pkl','wb') as f:\n",
    "    pickle.dump(log_clf,f)"
   ]
  }
 ],
 "metadata": {
  "kernelspec": {
   "display_name": "Python 3 (ipykernel)",
   "language": "python",
   "name": "python3"
  },
  "language_info": {
   "codemirror_mode": {
    "name": "ipython",
    "version": 3
   },
   "file_extension": ".py",
   "mimetype": "text/x-python",
   "name": "python",
   "nbconvert_exporter": "python",
   "pygments_lexer": "ipython3",
   "version": "3.10.5"
  }
 },
 "nbformat": 4,
 "nbformat_minor": 5
}
